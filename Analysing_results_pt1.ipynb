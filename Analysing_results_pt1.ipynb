{
 "cells": [
  {
   "cell_type": "markdown",
   "id": "f969d89b",
   "metadata": {},
   "source": [
    "## Imports"
   ]
  },
  {
   "cell_type": "code",
   "execution_count": 1,
   "id": "85b05a0e",
   "metadata": {},
   "outputs": [
    {
     "name": "stdout",
     "output_type": "stream",
     "text": [
      "importing Jupyter notebook from Analysis_functions.ipynb\n",
      "importing Jupyter notebook from Visualization_functions.ipynb\n"
     ]
    }
   ],
   "source": [
    "import numpy as np\n",
    "\n",
    "import sys\n",
    "\n",
    "import matplotlib.pyplot as plt\n",
    "import matplotlib.animation as animation\n",
    "import matplotlib as mpl\n",
    "from matplotlib.ticker import ScalarFormatter\n",
    "\n",
    "from astropy import units as u\n",
    "from astropy import constants as const\n",
    "from astropy.table import QTable\n",
    "\n",
    "from pathlib import Path\n",
    "import os\n",
    "\n",
    "import import_ipynb\n",
    "from Analysis_functions import extract_data, extract_data_short, means_calc, stream_crossing, easy_interpolate, \\\n",
    "     stream_alignment_step1, stream_alignment_step2, stream_shape, binned_relative_difference, \\\n",
    "     inertia_tensor, Iii, Iij, aspect_ratios\n",
    "\n",
    "from Visualization_functions import snapshots_plot, anim_disc, anim_3d, anim_ComparetoTraceback\n",
    "\n",
    "sys.path.insert(0, '/home/emelie/Desktop/Codes/PETAR/PeTar-master/tools/')\n",
    "from analysis import *"
   ]
  },
  {
   "cell_type": "code",
   "execution_count": 2,
   "id": "9bbbb5c8",
   "metadata": {},
   "outputs": [],
   "source": [
    "plt.rcParams.update({'xtick.labelsize':20, 'ytick.labelsize':20, 'axes.titlesize':26, \n",
    "                     'axes.grid':True, 'axes.labelsize':24, 'legend.fontsize':20})"
   ]
  },
  {
   "cell_type": "markdown",
   "id": "c270a033",
   "metadata": {},
   "source": [
    "# Trace back of Boo III Orbit, 3 particles, 1Gyr back in time"
   ]
  },
  {
   "cell_type": "code",
   "execution_count": 3,
   "id": "dc690b9a",
   "metadata": {
    "scrolled": true
   },
   "outputs": [
    {
     "name": "stdout",
     "output_type": "stream",
     "text": [
      "Number of particles is conserved: True\n",
      "(3, 21, 126)\n",
      "(4, 126)\n",
      "(8, 126)\n",
      "0.014934474300677339\n",
      "0.0006077755205047432\n",
      "(126,)\n",
      "(126,)\n"
     ]
    }
   ],
   "source": [
    "trace_back_data, trace_back_header, trace_back_extra, trace_back_hist_data = extract_data(r'btest2_data', r'Petar_back_test2', 125, 1)\n",
    "\n",
    "print(trace_back_data.shape)\n",
    "print(trace_back_extra.shape)\n",
    "print(trace_back_header.shape)\n",
    "\n",
    "trace_back_halfmass_r = trace_back_extra[0, :]\n",
    "#print(trace_back_halfmass_r)\n",
    "\n",
    "print(np.max(trace_back_halfmass_r))\n",
    "print(np.min(trace_back_halfmass_r))\n",
    "\n",
    "v_mean_trace_back, r_mean_trace_back = means_calc(trace_back_header)\n",
    "\n",
    "print(v_mean_trace_back.shape)\n",
    "print(r_mean_trace_back.shape)"
   ]
  },
  {
   "cell_type": "markdown",
   "id": "021b565d",
   "metadata": {},
   "source": [
    "### Plotting mean velocities"
   ]
  },
  {
   "cell_type": "code",
   "execution_count": 4,
   "id": "80994b95",
   "metadata": {},
   "outputs": [],
   "source": [
    "#means_plots(which='vel', header_array=trace_back_header, mean=v_mean_trace_back, t_max=1000, run='Trace_back', \n",
    "#            fig_width=14, fig_height=10, save=False)"
   ]
  },
  {
   "cell_type": "code",
   "execution_count": 5,
   "id": "46b4f80c",
   "metadata": {},
   "outputs": [],
   "source": [
    "#means_plots(which='pos', header_array=trace_back_header, mean=r_mean_trace_back, t_max=1000, run='Trace_back', \n",
    "#            fig_width=14, fig_height=10, save=False)"
   ]
  },
  {
   "cell_type": "code",
   "execution_count": 6,
   "id": "9f0b6e45",
   "metadata": {
    "scrolled": true
   },
   "outputs": [],
   "source": [
    "#snapshots = [0, 30, 60, -1]\n",
    "#snapshots_plot(trace_back_data, snapshots, 11.0e1, 11.0e1, (11, 20), 5, 'Trace_back', save=False)"
   ]
  },
  {
   "cell_type": "code",
   "execution_count": 7,
   "id": "674a9453",
   "metadata": {},
   "outputs": [],
   "source": [
    "#anim_3d(trace_back_data, trace_back_header, tstep=8, nsteps=125, lims=15.0e1, fsize=(10, 10), \n",
    "#        marker_size=10, tx=-0.5e2, ty=1.0e2, tz=1.0e2, format_type='mp4', fps=10, run='Trace_back_run')"
   ]
  },
  {
   "cell_type": "markdown",
   "id": "515b9669",
   "metadata": {},
   "source": [
    "# Trace forward of Boo III Orbit, 3 particles, 8Gyr forward in time"
   ]
  },
  {
   "cell_type": "code",
   "execution_count": 4,
   "id": "b33111bc",
   "metadata": {
    "scrolled": true
   },
   "outputs": [
    {
     "name": "stdout",
     "output_type": "stream",
     "text": [
      "Number of particles is conserved: True\n",
      "(3, 21, 2001)\n",
      "(4, 2001)\n",
      "(8, 2001)\n",
      "0.06259852657480973\n",
      "0.0001785783876411207\n",
      "(2001,)\n",
      "(2001,)\n"
     ]
    }
   ],
   "source": [
    "trace_forward_data, trace_forward_header, trace_forward_extra, trace_forward_hist_data = extract_data(r'Trace_forward_fiducial_run_data', r'Trace_forward_fiducial_run', 2000, 1)\n",
    "\n",
    "print(trace_forward_data.shape)\n",
    "print(trace_forward_extra.shape)\n",
    "print(trace_forward_header.shape)\n",
    "\n",
    "trace_forward_halfmass_r = trace_forward_extra[0, :]\n",
    "#print(trace_forward_halfmass_r)\n",
    "\n",
    "print(np.max(trace_forward_halfmass_r))\n",
    "print(np.min(trace_forward_halfmass_r))\n",
    "\n",
    "v_mean_trace_forward, r_mean_trace_forward = means_calc(trace_forward_header)\n",
    "\n",
    "print(v_mean_trace_forward.shape)\n",
    "print(r_mean_trace_forward.shape)"
   ]
  },
  {
   "cell_type": "markdown",
   "id": "bf9cb5ed",
   "metadata": {},
   "source": [
    "### Plotting mean velocities"
   ]
  },
  {
   "cell_type": "code",
   "execution_count": 9,
   "id": "fbc075a7",
   "metadata": {},
   "outputs": [],
   "source": [
    "#means_plots(which='vel', header_array=trace_forward_header, mean=v_mean_petar_btest, t_max=1000, run='Trace_forward', \n",
    "#            fig_width=14, fig_height=10, save=False)"
   ]
  },
  {
   "cell_type": "code",
   "execution_count": 10,
   "id": "a2f70408",
   "metadata": {},
   "outputs": [],
   "source": [
    "#means_plots(which='pos', header_array=trace_forward_header, mean=r_mean_petar_btest, t_max=1000, run='Trace_forward', \n",
    "#            fig_width=14, fig_height=10, save=False)"
   ]
  },
  {
   "cell_type": "code",
   "execution_count": 11,
   "id": "39114157",
   "metadata": {
    "scrolled": true
   },
   "outputs": [],
   "source": [
    "#snapshots = [0, 25, 50, -1]\n",
    "#snapshots_plot(trace_forward_data, snapshots, 11.0e1, 11.0e1, (11, 20), 5, 'Trace forward', save=False)"
   ]
  },
  {
   "cell_type": "code",
   "execution_count": 12,
   "id": "6939d335",
   "metadata": {
    "scrolled": true
   },
   "outputs": [],
   "source": [
    "#anim_3d(trace_forward_data, trace_forward_header, tstep=4, nsteps=2000, lims=17.5e1, fsize=(10, 10), \n",
    "#        marker_size=10, tx=-0.5e2, ty=1.0e2, tz=1.0e2, format_type='mp4', fps=8, run='Trace_forward_run')"
   ]
  },
  {
   "cell_type": "markdown",
   "id": "cb613f89",
   "metadata": {},
   "source": [
    "## Reading in high-mass data to correct the extra lengths"
   ]
  },
  {
   "cell_type": "markdown",
   "id": "d9a7c7ea",
   "metadata": {},
   "source": [
    "### $M_{dyn} = 13 \\,$M$_{\\odot}$"
   ]
  },
  {
   "cell_type": "code",
   "execution_count": 5,
   "id": "20fa7f4a",
   "metadata": {},
   "outputs": [
    {
     "name": "stdout",
     "output_type": "stream",
     "text": [
      "(1000066, 21, 1)\n",
      "(4, 1)\n",
      "(8, 1)\n",
      "[ 1.00006600e+06  4.99200000e+03  3.64330703e+01  1.54212291e+02\n",
      " -4.55233670e+01  6.29685582e+00  2.67396837e+01  1.52785348e+01]\n",
      "[0.16447482]\n",
      "0.16447481677218076\n",
      "0.16447481677218076\n",
      "(1,)\n",
      "(1,)\n",
      "CPU times: user 34.5 s, sys: 1.36 s, total: 35.9 s\n",
      "Wall time: 35.6 s\n"
     ]
    }
   ],
   "source": [
    "%%time\n",
    "#high_mass_mod_data, high_mass_mod_header, high_mass_mod_extra, high_mass_mod_hist_data = extract_data(r'high_mass_run_data', \n",
    "#                                                                                                                  r'High_mass_run', 39, 1)\n",
    "\n",
    "high_mass_mod_data, high_mass_mod_header, high_mass_mod_extra = extract_data_short(r'high_mass_run_data', \n",
    "                                                                                    r'High_mass_run', 39)\n",
    "\n",
    "in_high_mass_mod_data, in_high_mass_mod_header, in_high_mass_mod_extra = extract_data_short(r'high_mass_run_data', \n",
    "                                                                                            r'High_mass_run', 0)\n",
    "\n",
    "print(high_mass_mod_data.shape)\n",
    "print(high_mass_mod_extra.shape)\n",
    "print(high_mass_mod_header.shape)\n",
    "print(high_mass_mod_header[:, -1])\n",
    "\n",
    "high_mass_mod_halfmass_r = high_mass_mod_extra[0, :]\n",
    "print(high_mass_mod_halfmass_r)\n",
    "\n",
    "print(np.max(high_mass_mod_halfmass_r))\n",
    "print(np.min(high_mass_mod_halfmass_r))\n",
    "\n",
    "v_mean_high_mass_mod, r_mean_high_mass_mod = means_calc(high_mass_mod_header)\n",
    "\n",
    "print(v_mean_high_mass_mod.shape)\n",
    "print(r_mean_high_mass_mod.shape)"
   ]
  },
  {
   "cell_type": "markdown",
   "id": "36451fdb",
   "metadata": {},
   "source": [
    "## Looking at the orbit"
   ]
  },
  {
   "cell_type": "code",
   "execution_count": 8,
   "id": "b54f8315",
   "metadata": {},
   "outputs": [
    {
     "data": {
      "image/png": "[encoded data removed]",
      "text/plain": [
       "<Figure size 576x576 with 1 Axes>"
      ]
     },
     "metadata": {
      "needs_background": "light"
     },
     "output_type": "display_data"
    }
   ],
   "source": [
    "fig_orb, ax_orb = plt.subplots(figsize=(8, 8))\n",
    "#ax_orb = fig_orb.add_subplot(projection='3d', computed_zorder=False)\n",
    "\n",
    "#u = np.linspace(0, 2 * np.pi, 100)\n",
    "#v = np.linspace(0, np.pi, 100)\n",
    "\n",
    "\n",
    "#x_bulge = 1.500 * np.outer(np.cos(u), np.sin(v))\n",
    "#y_bulge = 1.500 * np.outer(np.sin(u), np.sin(v))\n",
    "#z_bulge = 1.500 * np.outer(np.ones(np.size(u)), np.cos(v))\n",
    "\n",
    "#x_disc = 14.490 * np.outer(np.cos(u), np.sin(v))\n",
    "#y_disc = 14.490 * np.outer(np.sin(u), np.sin(v))\n",
    "#z_disc = 0.300 * np.outer(np.ones(np.size(u)), np.cos(v))\n",
    "\n",
    "# Before: 40:109\n",
    "low_tstep = 800\n",
    "high_tstep = 1780\n",
    "\n",
    "ax_orb.plot(trace_forward_header[3, low_tstep:high_tstep], trace_forward_header[4, low_tstep:high_tstep], \n",
    "            color='r', zorder=10, label='Orbit') \n",
    "            #trace_forward_header[4, low_tstep:high_tstep], color='b')\n",
    "\n",
    "ax_orb.scatter(high_mass_mod_data[:, 2], high_mass_mod_data[:, 3], c='b', zorder=0, s=1, \n",
    "               label='High mass stream')\n",
    "\n",
    "#sc = ax_orb.scatter(trace_forward_header[2, 600:1900], trace_forward_header[3, 600:1900], \n",
    "#            trace_forward_header[4, 600:1900], c=trace_forward_header[1, 600:1900], cmap='spring')\n",
    "\n",
    "#plt.colorbar(sc)\n",
    "ax_orb.set_xlabel('y [kpc]') #, labelpad=15)\n",
    "ax_orb.set_ylabel('z [kpc]') #, labelpad=15)\n",
    "#ax_orb.set_zlabel('z [kpc]', labelpad=5)\n",
    "ax_orb.xaxis.set_major_formatter(ScalarFormatter(useMathText=True))\n",
    "ax_orb.xaxis.get_major_formatter().set_powerlimits((0, 0))\n",
    "ax_orb.yaxis.set_major_formatter(ScalarFormatter(useMathText=True))\n",
    "ax_orb.yaxis.get_major_formatter().set_powerlimits((0, 0))\n",
    "#ax_orb.zaxis.set_major_formatter(ScalarFormatter(useMathText=True))\n",
    "#ax_orb.zaxis.get_major_formatter().set_powerlimits((0, 0))\n",
    "\n",
    "ax_orb.legend()\n",
    "\n",
    "#ax_orb.plot_surface(x_bulge, y_bulge, z_bulge, color='grey', alpha=0.5)\n",
    "#ax_orb.plot_surface(x_disc, y_disc, z_disc, color='grey', alpha=0.5)\n",
    "\n",
    "#ax_orb.view_init(4, 15)\n",
    "\n",
    "plt.show()"
   ]
  },
  {
   "cell_type": "markdown",
   "id": "ba271fd7",
   "metadata": {},
   "source": [
    "## Finding crossing"
   ]
  },
  {
   "cell_type": "markdown",
   "id": "2d9bafff",
   "metadata": {},
   "source": [
    "orbit_crossing = stream_crossing(trace_forward_header[:, 600:1900], 5e6, 1e6)\n",
    "print(orbit_crossing)"
   ]
  },
  {
   "cell_type": "markdown",
   "id": "9fdf0fa8",
   "metadata": {},
   "source": [
    "orbit_pos = run_petar_trace_forward_header[2:5, 600:1900].T\n",
    "\n",
    "difference_to_crossing = orbit_pos - orbit_crossing[0, :]\n",
    "distance_to_crossing = np.sqrt(np.sum(difference_to_crossing**2, axis=1))\n",
    "\n",
    "close_orbit_pos = distance_to_crossing<=5e3\n",
    "close_pos = orbit_pos[close_orbit_pos]\n",
    "print(np.shape(close_pos))"
   ]
  },
  {
   "cell_type": "markdown",
   "id": "d6c7bf53",
   "metadata": {},
   "source": [
    "fig_orb2 = plt.figure(figsize=(10, 8))\n",
    "ax_orb2 = fig_orb2.add_subplot(projection='3d', computed_zorder=False)\n",
    "\n",
    "u = np.linspace(0, 2 * np.pi, 100)\n",
    "v = np.linspace(0, np.pi, 100)\n",
    "\n",
    "\n",
    "x_bulge = 1.500 * np.outer(np.cos(u), np.sin(v))\n",
    "y_bulge = 1.500 * np.outer(np.sin(u), np.sin(v))\n",
    "z_bulge = 1.500 * np.outer(np.ones(np.size(u)), np.cos(v))\n",
    "\n",
    "x_disc = 14.490 * np.outer(np.cos(u), np.sin(v))\n",
    "y_disc = 14.490 * np.outer(np.sin(u), np.sin(v))\n",
    "z_disc = 0.300 * np.outer(np.ones(np.size(u)), np.cos(v))\n",
    "# Before: 40:109\n",
    "#ax_orb.plot(run_petar_trace_forward_header[2, 650:], run_petar_trace_forward_header[3, 650:], \n",
    "#            run_petar_trace_forward_header[4, 650:], color='b')\n",
    "\n",
    "sc = ax_orb2.scatter(run_petar_trace_forward_header[2, 650:], run_petar_trace_forward_header[3, 650:], \n",
    "                     run_petar_trace_forward_header[4, 650:], c=run_petar_trace_forward_header[1, 650:], \n",
    "                     cmap='spring', s=10)\n",
    "\n",
    "plt.colorbar(sc)\n",
    "\n",
    "ax_orb2.scatter(orbit_crossing[0, 0], orbit_crossing[0, 1], orbit_crossing[0, 2], c='b', marker='x', s=20)\n",
    "ax_orb2.scatter(close_pos[:, 0], close_pos[:, 1], close_pos[:, 2], c='r', s=10)\n",
    "\n",
    "\n",
    "ax_orb2.set_xlabel('x [kpc]', labelpad=15)\n",
    "ax_orb2.set_ylabel('y [kpc]', labelpad=15)\n",
    "ax_orb2.set_zlabel('z [kpc]', labelpad=5)\n",
    "ax_orb2.xaxis.set_major_formatter(ScalarFormatter(useMathText=True))\n",
    "ax_orb2.xaxis.get_major_formatter().set_powerlimits((0, 0))\n",
    "ax_orb2.yaxis.set_major_formatter(ScalarFormatter(useMathText=True))\n",
    "ax_orb2.yaxis.get_major_formatter().set_powerlimits((0, 0))\n",
    "ax_orb2.zaxis.set_major_formatter(ScalarFormatter(useMathText=True))\n",
    "ax_orb2.zaxis.get_major_formatter().set_powerlimits((0, 0))\n",
    "\n",
    "ax_orb2.plot_surface(x_bulge, y_bulge, z_bulge, color='grey', alpha=0.5)\n",
    "ax_orb2.plot_surface(x_disc, y_disc, z_disc, color='grey', alpha=0.5)\n",
    "\n",
    "#ax_orb2.set_xlim(xmin=-0.0e2, xmax=0.4e2)\n",
    "#ax_orb2.set_ylim(ymin=-0.1e2, ymax=0.0e2)\n",
    "#ax_orb2.set_zlim(zmin=-0.05e2, zmax=0.05e2)\n",
    "\n",
    "ax_orb2.view_init(4, 15)\n",
    "\n",
    "plt.show()"
   ]
  },
  {
   "cell_type": "markdown",
   "id": "7b8d6256",
   "metadata": {},
   "source": [
    "### Constructing orbit data array"
   ]
  },
  {
   "cell_type": "code",
   "execution_count": 6,
   "id": "1a86eee4",
   "metadata": {},
   "outputs": [],
   "source": [
    "low_tstep = 800\n",
    "high_tstep = 1780"
   ]
  },
  {
   "cell_type": "code",
   "execution_count": 11,
   "id": "28a611fc",
   "metadata": {},
   "outputs": [
    {
     "name": "stdout",
     "output_type": "stream",
     "text": [
      "(7,)\n",
      "(7,)\n",
      "(2, 7)\n"
     ]
    }
   ],
   "source": [
    "# With all snapshots: high_mass_mod_data[:, 3, -1]\n",
    "upper_part_mask = np.where(high_mass_mod_data[:, 3] == np.max(high_mass_mod_data[:, 3]))[0]\n",
    "# Position (x, y, z, vx, vy, vz) of highest stream particle\n",
    "upper_part_pos = high_mass_mod_data[upper_part_mask, 1:7].flatten() \n",
    "upper_part_pos = np.concatenate([upper_part_pos, [1]])\n",
    "print(np.shape(upper_part_pos))\n",
    "# Highest orbit particle is in the first particle I include\n",
    "# Getting position and velocity of highest orbit particle\n",
    "upper_orb_part = trace_forward_data[0, 1:7, low_tstep]\n",
    "upper_orb_part = np.concatenate([upper_orb_part, [1]])\n",
    "print(np.shape(upper_orb_part))\n",
    "\n",
    "high_mass_orbit_extension = np.concatenate([upper_part_pos[np.newaxis, :], upper_orb_part[np.newaxis, :]], \n",
    "                                             axis=0)\n",
    "print(np.shape(high_mass_orbit_extension))"
   ]
  },
  {
   "cell_type": "code",
   "execution_count": 12,
   "id": "cfa2c437",
   "metadata": {},
   "outputs": [],
   "source": [
    "# Interpolate more points between these two points\n",
    "for i in range(8):\n",
    "        #print(i)\n",
    "        # Roll particles to get x1-x2, x2-x3, etc.\n",
    "        data_rolled = np.roll(high_mass_orbit_extension, shift=1, axis=0) \n",
    "        \n",
    "        # Delete first particle because of mismatch: xn-x1\n",
    "        data = np.delete(high_mass_orbit_extension, 0, axis=0) \n",
    "        data_rolled = np.delete(data_rolled, 0, axis=0)\n",
    "        #print(data_rolled[:10])\n",
    "        #print(data[:10])\n",
    "        \n",
    "        # Calculating middle point position: x, y, z\n",
    "        interp_pos = (data_rolled[:, 0:3] + data[:, 0:3])/2 \n",
    "        \n",
    "        # Length of data with added points in between\n",
    "        len_new_data = 2*len(high_mass_orbit_extension)-1\n",
    "        #print(len_new_data)\n",
    "\n",
    "        # x, y, z, vx, vy, vz, t\n",
    "        new_data = np.zeros((len_new_data, 7))\n",
    "        \n",
    "        # Adding data for new points\n",
    "        new_data[0::2, :] = high_mass_orbit_extension\n",
    "        new_data[1::2, 0:3] = interp_pos\n",
    "        new_data[1::2, 4:] = np.ones((np.shape(new_data[1::2, 4:])))\n",
    "        \n",
    "        high_mass_orbit_extension = new_data\n",
    "        "
   ]
  },
  {
   "cell_type": "code",
   "execution_count": 13,
   "id": "1008ce15",
   "metadata": {},
   "outputs": [
    {
     "name": "stdout",
     "output_type": "stream",
     "text": [
      "(257, 7)\n"
     ]
    }
   ],
   "source": [
    "print(np.shape(high_mass_orbit_extension))"
   ]
  },
  {
   "cell_type": "code",
   "execution_count": 14,
   "id": "c7bd900d",
   "metadata": {},
   "outputs": [
    {
     "name": "stdout",
     "output_type": "stream",
     "text": [
      "(980, 7)\n",
      "(1237, 7)\n"
     ]
    }
   ],
   "source": [
    "orbit_position = trace_forward_header[2:5, low_tstep:high_tstep].T # To get shape (N,x)\n",
    "orbit_velocity = trace_forward_header[5:8, low_tstep:high_tstep].T # To get shape (N,x)\n",
    "orbit_times = trace_forward_header[1, low_tstep:high_tstep].T # To get shape (N,x)\n",
    "\n",
    "# gets columns (x, y, z, vx, vy, vz, t)\n",
    "orbit_data1 = np.concatenate([orbit_position, orbit_velocity, orbit_times[:, np.newaxis]], axis=1)\n",
    "\n",
    "print(np.shape(orbit_data1)) # Expect shape n,7\n",
    "\n",
    "\n",
    "orbit_data = np.concatenate([high_mass_orbit_extension, orbit_data1], axis=0)\n",
    "print(np.shape(orbit_data))"
   ]
  },
  {
   "cell_type": "markdown",
   "id": "d06a381d",
   "metadata": {},
   "source": [
    "orbit_position = trace_forward_header[2:5, 600:1900].T # To get shape (N,x)\n",
    "orbit_velocity = trace_forward_header[5:8, 600:1900].T # To get shape (N,x)\n",
    "orbit_times = trace_forward_header[1, 600:1900].T # To get shape (N,x)\n",
    "\n",
    "# gets columns (x, y, z, vx, vy, vz, t)\n",
    "orbit_data = np.concatenate([orbit_position, orbit_velocity, orbit_times[:, np.newaxis]], axis=1)\n",
    "\n",
    "print(np.shape(orbit_data)) # Expect shape n,7"
   ]
  },
  {
   "cell_type": "markdown",
   "id": "540931e2",
   "metadata": {},
   "source": [
    "### Interpolating orbit"
   ]
  },
  {
   "cell_type": "code",
   "execution_count": 15,
   "id": "56c28420",
   "metadata": {},
   "outputs": [
    {
     "name": "stdout",
     "output_type": "stream",
     "text": [
      "(4945, 8)\n"
     ]
    },
    {
     "name": "stderr",
     "output_type": "stream",
     "text": [
      "<string>:31: RuntimeWarning: divide by zero encountered in true_divide\n"
     ]
    }
   ],
   "source": [
    "hm_interpolated_orbit = easy_interpolate(orbit_data, 2)\n",
    "print(np.shape(hm_interpolated_orbit))\n",
    "#print(interpolated_orbit[:20, 3:6])"
   ]
  },
  {
   "cell_type": "code",
   "execution_count": 16,
   "id": "04b2ec54",
   "metadata": {},
   "outputs": [
    {
     "name": "stderr",
     "output_type": "stream",
     "text": [
      "/tmp/ipykernel_3913987/2473996500.py:7: MatplotlibDeprecationWarning: Auto-removal of grids by pcolor() and pcolormesh() is deprecated since 3.5 and will be removed two minor releases later; please call grid(False) first.\n",
      "  plt.colorbar(sc)\n"
     ]
    },
    {
     "data": {
      "image/png": "[encoded data removed]",
      "text/plain": [
       "<Figure size 576x576 with 2 Axes>"
      ]
     },
     "metadata": {
      "needs_background": "light"
     },
     "output_type": "display_data"
    }
   ],
   "source": [
    "fig_orb2, ax_orb2 = plt.subplots(figsize=(8, 8))\n",
    "\n",
    "#ax_orb2.plot(interpolated_orbit[:, 1], interpolated_orbit[:, 2], color='r', zorder=10, label='Interpolated orbit')\n",
    "sc = ax_orb2.scatter(hm_interpolated_orbit[:, 1], hm_interpolated_orbit[:, 2], \n",
    "                     c=hm_interpolated_orbit[:, -1], cmap='spring', zorder=10, s=1, \n",
    "                     label='Interpolated orbit')\n",
    "plt.colorbar(sc)\n",
    "\n",
    "ax_orb2.scatter(high_mass_mod_data[:, 2], high_mass_mod_data[:, 3], c='b', zorder=0, s=1, \n",
    "               label='High mass stream')\n",
    "\n",
    "ax_orb2.set_xlabel('y [kpc]')\n",
    "ax_orb2.set_ylabel('z [kpc]')\n",
    "ax_orb2.xaxis.set_major_formatter(ScalarFormatter(useMathText=True))\n",
    "ax_orb2.xaxis.get_major_formatter().set_powerlimits((0, 0))\n",
    "ax_orb2.yaxis.set_major_formatter(ScalarFormatter(useMathText=True))\n",
    "ax_orb2.yaxis.get_major_formatter().set_powerlimits((0, 0))\n",
    "\n",
    "ax_orb2.legend()\n",
    "\n",
    "\n",
    "plt.show()"
   ]
  },
  {
   "cell_type": "markdown",
   "id": "f8c34896",
   "metadata": {},
   "source": [
    "# Fiducial model run: 112558 particles, 5Gyr forward"
   ]
  },
  {
   "cell_type": "markdown",
   "id": "6eeed946",
   "metadata": {},
   "source": [
    "Leo T-like progenitor in Boo III's orbit. Using data without uncertainties:\n",
    "\n",
    "- $M_{dyn} = 9 \\,$M$_{\\odot}$\n",
    "- $r_h = 153 \\,$pc\n",
    "- Maschberger 2012 IMF with masses above $100 \\,$M$_{\\odot}$"
   ]
  },
  {
   "cell_type": "markdown",
   "id": "105efda3",
   "metadata": {},
   "source": [
    "%%time\n",
    "fid_small_mod_data, fid_small_mod_header, fid_small_mod_extra, fid_small_mod_hist_data = extract_data(r'fiducial_run_data', \n",
    "                                                                                          r'Fiducial_run', 39, 1)\n",
    "\n",
    "print(fid_small_mod_data.shape)\n",
    "print(fid_small_mod_extra.shape)\n",
    "print(fid_small_mod_header.shape)\n",
    "print(fid_small_mod_header[:, -1])\n",
    "\n",
    "fid_small_mod_halfmass_r = fid_small_mod_extra[0, :]\n",
    "print(fid_small_mod_halfmass_r)\n",
    "\n",
    "print(np.max(fid_small_mod_halfmass_r))\n",
    "print(np.min(fid_small_mod_halfmass_r))\n",
    "\n",
    "v_mean_fid_small_mod, r_mean_fid_small_mod = means_calc(fid_small_mod_header)\n",
    "\n",
    "print(v_mean_fid_small_mod.shape)\n",
    "print(r_mean_fid_small_mod.shape)"
   ]
  },
  {
   "cell_type": "markdown",
   "id": "70b4693f",
   "metadata": {},
   "source": [
    "### Plotting mean velocities"
   ]
  },
  {
   "cell_type": "code",
   "execution_count": 21,
   "id": "c194b875",
   "metadata": {},
   "outputs": [],
   "source": [
    "#means_plots(which='vel', header_array=run_fid_mod_header, mean=v_mean_fid_mod, t_max=5000, run='Fiducial_model', \n",
    "#            fig_width=14, fig_height=10, save=False)"
   ]
  },
  {
   "cell_type": "code",
   "execution_count": 22,
   "id": "ff5de18f",
   "metadata": {},
   "outputs": [],
   "source": [
    "#means_plots(which='pos', header_array=run_fid_mod_header, mean=r_mean_fid_mod, t_max=5000, run='Fiducial_model', \n",
    "#            fig_width=14, fig_height=10, save=False)"
   ]
  },
  {
   "cell_type": "code",
   "execution_count": 23,
   "id": "078a94a3",
   "metadata": {
    "scrolled": true
   },
   "outputs": [],
   "source": [
    "#snapshots_btest = [0, 18, 37, -1]\n",
    "#snapshots_plot(run_fid_mod_data, snapshots_btest, 25.0e4, 25.0e4, (11, 20), 1, 'Fiducial_model', save=False)"
   ]
  },
  {
   "cell_type": "markdown",
   "id": "78940a85",
   "metadata": {},
   "source": [
    "### Animations"
   ]
  },
  {
   "cell_type": "code",
   "execution_count": 24,
   "id": "2eb561c1",
   "metadata": {},
   "outputs": [],
   "source": [
    "#anim_disc(run_fid_mod_data, run_fid_mod_header, tstep=8, nsteps=125, lims=5.0e1, fsize=(10, 10), \n",
    "#          tx=-25000, ty=24000, format_type='gif', fps=2, run='btest2')"
   ]
  },
  {
   "cell_type": "code",
   "execution_count": 25,
   "id": "3cdfef68",
   "metadata": {},
   "outputs": [],
   "source": [
    "#anim_3d(run_fid_mod_data, run_fid_mod_header, tstep=128, nsteps=40, lims=25.0e1, fsize=(10, 10), \n",
    "#        marker_size=1, tx=-0.5e2, ty=1.0e2, tz=1.0e2, format_type='mp4', fps=6, run='Fiducial_model2')"
   ]
  },
  {
   "cell_type": "markdown",
   "id": "633824da",
   "metadata": {},
   "source": [
    "## Comparing to trace-back of orbit"
   ]
  },
  {
   "cell_type": "code",
   "execution_count": 26,
   "id": "0c4b0532",
   "metadata": {},
   "outputs": [],
   "source": [
    "#anim_ComparetoTraceback(run_fid_mod_data, run_petar_btest_data, lims=2.5e2, \n",
    "#                        run_file='Fiducial_run_and_trace_back', run_title='Fiducial run compared to trace back',\n",
    "#                        fsize=(10, 10), fps=2, format_type='mp4')"
   ]
  },
  {
   "cell_type": "code",
   "execution_count": 27,
   "id": "9a7ff9bc",
   "metadata": {},
   "outputs": [],
   "source": [
    "#trace_back_snapshots = np.linspace(0, 112, 8, dtype=int)\n",
    "#print(trace_back_snapshots)\n",
    "#print(trace_back_snapshots[::-1][6])\n",
    "\n",
    "#f_anim_3d = np.arange(0, 8, 1)\n",
    "#print(f_anim_3d)"
   ]
  },
  {
   "cell_type": "code",
   "execution_count": 28,
   "id": "f7c3d2bd",
   "metadata": {},
   "outputs": [],
   "source": [
    "#run = 'Fiducial_run_and_trace_back'\n",
    "\n",
    "#len_data = len(data_input)\n",
    "    \n",
    "#pos_in = np.round(data_header[2:5, 0], 3)\n",
    "#vel_in = np.round(data_header[5:, 0], 3)\n",
    "\n",
    "\n",
    "#fig_anim_3d = plt.figure(figsize=(10, 10)) \n",
    "#ax_anim_3d = fig_anim_3d.add_subplot(projection='3d')\n",
    "\n",
    "#scatter1 = ax_anim_3d.scatter([], [], [], c='b', s=1)\n",
    "#scatter2 = ax_anim_3d.scatter([], [], [], c='r', s=5)\n",
    "\n",
    "#scatters = [scatter1, scatter2]\n",
    "\n",
    "#my_text = ax_anim_3d.text(-1.0e5, 2.0e5, 2.0e5, '', fontsize=20)\n",
    "\n",
    "\n",
    "#u = np.linspace(0, 2 * np.pi, 100)\n",
    "#v = np.linspace(0, np.pi, 100)\n",
    "\n",
    "#x_bulge = 1500 * np.outer(np.cos(u), np.sin(v))\n",
    "#y_bulge = 1500 * np.outer(np.sin(u), np.sin(v))\n",
    "#z_bulge = 1500 * np.outer(np.ones(np.size(u)), np.cos(v))\n",
    "\n",
    "#x_disc = 14490 * np.outer(np.cos(u), np.sin(v))\n",
    "#y_disc = 14490 * np.outer(np.sin(u), np.sin(v))\n",
    "#z_disc = 300 * np.outer(np.ones(np.size(u)), np.cos(v))\n",
    "\n",
    "\n",
    "#min_lim = -2.5e5\n",
    "#max_lim = 2.5e5\n",
    "\n",
    "#def init_anim_3d(): \n",
    "#    ax_anim_3d.set_title('Fiducial compared to trace-back', fontsize=20, y=0.85)\n",
    "#    ax_anim_3d.set_xlabel('x [pc]')\n",
    "#    ax_anim_3d.set_ylabel('y [pc]')\n",
    "#    ax_anim_3d.set_zlabel('z [pc]') \n",
    "    \n",
    "#    ax_anim_3d.set_xlim(xmin=min_lim, xmax=max_lim)\n",
    "#    ax_anim_3d.set_ylim(ymin=min_lim, ymax=max_lim)\n",
    "#    ax_anim_3d.set_zlim(zmin=min_lim, zmax=max_lim)\n",
    "    \n",
    "#    # Fixing the ticklabels\n",
    "#    ax_anim_3d.xaxis.set_major_formatter(ScalarFormatter(useMathText=True))\n",
    "#    ax_anim_3d.xaxis.get_major_formatter().set_powerlimits((0, 0))\n",
    "#    ax_anim_3d.yaxis.set_major_formatter(ScalarFormatter(useMathText=True))\n",
    "#    ax_anim_3d.yaxis.get_major_formatter().set_powerlimits((0, 0))\n",
    "#    ax_anim_3d.zaxis.set_major_formatter(ScalarFormatter(useMathText=True))\n",
    "#    ax_anim_3d.zaxis.get_major_formatter().set_powerlimits((0, 0))\n",
    "    \n",
    "#    # Plots Milky Way\n",
    "#    ax_anim_3d.plot_surface(x_bulge, y_bulge, z_bulge, color='grey', alpha=0.5)\n",
    "#    ax_anim_3d.plot_surface(x_disc, y_disc, z_disc, color='grey', alpha=0.5)\n",
    "    \n",
    "#    ax_anim_3d.view_init(4, 45)\n",
    "    \n",
    "#    plt.tight_layout()\n",
    "#    plt.show()\n",
    "    \n",
    "#    return scatters[0], scatters[1],\n",
    "\n",
    "#def update_anim_3d(frame):\n",
    "#    my_text.set_text(f't={frame*128} Myr')\n",
    "    \n",
    "#    scatters[0]._offsets3d = (run_fid_mod_data[:, 1, frame], run_fid_mod_data[:, 2, frame], \n",
    "#                               run_fid_mod_data[:, 3, frame])\n",
    "    \n",
    "#    frame2 = trace_back_snapshots[::-1][frame]\n",
    "#    scatters[1]._offsets3d = (run_petar_btest_data[:, 1, frame2], run_petar_btest_data[:, 2, frame2], \n",
    "#                               run_petar_btest_data[:, 3, frame2])\n",
    "    \n",
    "#    return scatters[0], scatters[1],\n",
    "\n",
    "\n",
    "\n",
    "#animation_plots_3d = animation.FuncAnimation(fig_anim_3d, update_anim_3d, \n",
    "#                                                frames=f_anim_3d, init_func=init_anim_3d)\n",
    "\n",
    "    \n",
    "#writervideo = animation.FFMpegWriter(fps=2)\n",
    "#animation_plots_3d.save(f'./Animations/Anim_{run}_3d.mp4', writer=writervideo)\n",
    "        \n",
    "#writervideo = animation.PillowWriter(fps=fps) \n",
    "#animation_plots_3d.save(f'./Animations/Anim_{run}_3d.gif', writer=writervideo)"
   ]
  },
  {
   "cell_type": "code",
   "execution_count": null,
   "id": "50d901f9",
   "metadata": {},
   "outputs": [],
   "source": []
  },
  {
   "cell_type": "markdown",
   "id": "38d5073c",
   "metadata": {},
   "source": [
    "# Fiducial model run, large: 997967particles, 5Gyr forward"
   ]
  },
  {
   "cell_type": "markdown",
   "id": "39b75946",
   "metadata": {},
   "source": [
    "Leo T-like progenitor in Boo III's orbit. Using data without uncertainties:\n",
    "\n",
    "- $M_{dyn} = 9 \\,$M$_{\\odot}$\n",
    "- $r_h = 153 \\,$pc\n",
    "- Maschberger 2012 IMF with masses above $2.955 \\,$M$_{\\odot}$"
   ]
  },
  {
   "cell_type": "code",
   "execution_count": 17,
   "id": "f17eecdd",
   "metadata": {
    "scrolled": true
   },
   "outputs": [
    {
     "name": "stdout",
     "output_type": "stream",
     "text": [
      "(997967, 21, 1)\n",
      "(4, 1)\n",
      "(8, 1)\n",
      "[ 9.97967000e+05  4.99200000e+03  3.64234249e+01  1.54196121e+02\n",
      " -4.55313932e+01  6.32416793e+00  2.68520305e+01  1.52638686e+01]\n",
      "[0.17223316]\n",
      "0.17223316358935278\n",
      "0.17223316358935278\n",
      "(1,)\n",
      "(1,)\n",
      "CPU times: user 34.2 s, sys: 1.41 s, total: 35.6 s\n",
      "Wall time: 35.6 s\n"
     ]
    }
   ],
   "source": [
    "%%time\n",
    "#fid_mod_data, fid_mod_header, fid_mod_extra, fid_mod_hist_data = extract_data(r'fiducial_large_run_restart', \n",
    "#                                                                                          r'Fiducial_large_run', 39, 1)\n",
    "\n",
    "fid_mod_data, fid_mod_header, fid_mod_extra = extract_data_short(r'fiducial_large_run_restart', \n",
    "                                                                 r'Fiducial_large_run', 39)\n",
    "\n",
    "in_fid_mod_data, in_fid_mod_header, in_fid_mod_extra = extract_data_short(r'fiducial_large_run_restart', \n",
    "                                                                 r'Fiducial_large_run', 0)\n",
    "\n",
    "print(fid_mod_data.shape)\n",
    "print(fid_mod_extra.shape)\n",
    "print(fid_mod_header.shape)\n",
    "print(fid_mod_header[:, -1])\n",
    "\n",
    "fid_mod_halfmass_r = fid_mod_extra[0, :]\n",
    "print(fid_mod_halfmass_r)\n",
    "\n",
    "print(np.max(fid_mod_halfmass_r))\n",
    "print(np.min(fid_mod_halfmass_r))\n",
    "\n",
    "v_mean_fid_mod, r_mean_fid_mod = means_calc(fid_mod_header)\n",
    "\n",
    "print(v_mean_fid_mod.shape)\n",
    "print(r_mean_fid_mod.shape)"
   ]
  },
  {
   "cell_type": "markdown",
   "id": "80ac2f51",
   "metadata": {},
   "source": [
    "### Reducing mean orbit"
   ]
  },
  {
   "cell_type": "code",
   "execution_count": 18,
   "id": "c66c35b3",
   "metadata": {},
   "outputs": [
    {
     "data": {
      "image/png": "[encoded data removed]",
      "text/plain": [
       "<Figure size 576x576 with 1 Axes>"
      ]
     },
     "metadata": {
      "needs_background": "light"
     },
     "output_type": "display_data"
    }
   ],
   "source": [
    "figf1, axf1 = plt.subplots(figsize=(8, 8))\n",
    "\n",
    "fid_low_tstep = 575\n",
    "fid_high_tstep = -150\n",
    "\n",
    "axf1.plot(hm_interpolated_orbit[fid_low_tstep:fid_high_tstep, 1], \n",
    "             hm_interpolated_orbit[fid_low_tstep:fid_high_tstep, 2], \n",
    "             color='r', zorder=10, label='Interpolated orbit', lw=2, linestyle='dashed')\n",
    "\n",
    "axf1.scatter(fid_mod_data[:, 2], fid_mod_data[:, 3], c='b', zorder=0, s=1, \n",
    "               label='Fiducial model stream')\n",
    "\n",
    "axf1.set_xlabel('y [kpc]')\n",
    "axf1.set_ylabel('z [kpc]')\n",
    "axf1.xaxis.set_major_formatter(ScalarFormatter(useMathText=True))\n",
    "axf1.xaxis.get_major_formatter().set_powerlimits((0, 0))\n",
    "axf1.yaxis.set_major_formatter(ScalarFormatter(useMathText=True))\n",
    "axf1.yaxis.get_major_formatter().set_powerlimits((0, 0))\n",
    "\n",
    "axf1.legend()\n",
    "\n",
    "\n",
    "plt.show()"
   ]
  },
  {
   "cell_type": "code",
   "execution_count": null,
   "id": "8690ed6c",
   "metadata": {},
   "outputs": [],
   "source": []
  },
  {
   "cell_type": "markdown",
   "id": "e990a6cc",
   "metadata": {},
   "source": [
    "### Plotting mean velocities"
   ]
  },
  {
   "cell_type": "code",
   "execution_count": 30,
   "id": "c7694a38",
   "metadata": {},
   "outputs": [],
   "source": [
    "#means_plots(which='vel', header_array=run_fid_large_mod_header, mean=v_mean_fid_large_mod, t_max=5000, run='Fiducial_large_model', \n",
    "#            fig_width=14, fig_height=10, save=False)"
   ]
  },
  {
   "cell_type": "code",
   "execution_count": 31,
   "id": "b85175f6",
   "metadata": {},
   "outputs": [],
   "source": [
    "#means_plots(which='pos', header_array=run_fid_large_mod_header, mean=r_mean_fid_large_mod, t_max=5000, run='Fiducial_large_model', \n",
    "#            fig_width=14, fig_height=10, save=False)"
   ]
  },
  {
   "cell_type": "markdown",
   "id": "2dee275f",
   "metadata": {
    "scrolled": true
   },
   "source": [
    "snapshots_btest = [0, 14, 27, -1]\n",
    "snapshots_plot(fid_mod_data, snapshots_btest, 25.0e1, 25.0e1, (11, 20), 1, 'Fiducial_model', \n",
    "               save=False)"
   ]
  },
  {
   "cell_type": "code",
   "execution_count": null,
   "id": "efcdb16f",
   "metadata": {},
   "outputs": [],
   "source": []
  },
  {
   "cell_type": "markdown",
   "id": "20fe82ca",
   "metadata": {},
   "source": [
    "### Animations"
   ]
  },
  {
   "cell_type": "code",
   "execution_count": 33,
   "id": "1b09dd54",
   "metadata": {},
   "outputs": [],
   "source": [
    "#anim_disc(fid_mod_data, fid_mod_header, tstep=8, nsteps=125, lims=5.0e1, fsize=(10, 10), \n",
    "#          tx=-25000, ty=24000, format_type='gif', fps=2, run='Fiducial_run_disc')"
   ]
  },
  {
   "cell_type": "code",
   "execution_count": 34,
   "id": "c336d160",
   "metadata": {},
   "outputs": [],
   "source": [
    "#anim_3d(fid_mod_data, id_mod_header, tstep=128, \n",
    "#        nsteps=39+1, lims=25.0e1, fsize=(10, 10), \n",
    "#        marker_size=1, tx=-1.5e2, ty=2.0e2, tz=2.0e2, \n",
    "#        format_type='mp4', fps=6, run='Fiducial_model')"
   ]
  },
  {
   "cell_type": "markdown",
   "id": "67f9614e",
   "metadata": {},
   "source": [
    "## Comparing to trace-back of orbit"
   ]
  },
  {
   "cell_type": "code",
   "execution_count": 35,
   "id": "78598d55",
   "metadata": {},
   "outputs": [],
   "source": [
    "#anim_ComparetoTraceback(fid_mod_data, trace_back_data, lims=2.5e2, \n",
    "#                        run_file='Fiducial_run_and_trace_back', run_title='Fiducial run compared to trace back',\n",
    "#                        fsize=(10, 10), fps=2, format_type='mp4')"
   ]
  },
  {
   "cell_type": "markdown",
   "id": "0f81de93",
   "metadata": {},
   "source": [
    "## Streatching out stream"
   ]
  },
  {
   "cell_type": "code",
   "execution_count": 17,
   "id": "9386a1a2",
   "metadata": {},
   "outputs": [],
   "source": [
    "# Has columns x, y, z, vx, vy, vz\n",
    "#fid_stream_data = fid_mod_data[:, 1:7, -1]\n",
    "#fid_orbital_data = np.delete(hm_interpolated_orbit[fid_low_tstep:fid_high_tstep, :], 6, axis=1) # Removing time from orbital data as it is not needed"
   ]
  },
  {
   "cell_type": "markdown",
   "id": "3ba5be4d",
   "metadata": {},
   "source": [
    "figsm, axsm = plt.subplots(figsize=(10, 10))\n",
    "\n",
    "axsm.scatter(fid_stream_data[:, 1], fid_stream_data[:, 2], label='1st bump', \n",
    "             s=5, c='b', alpha=0.5)\n",
    "\n",
    "axsm.plot(orbital_data[:, 1], orbital_data[:, 2], color='r', linestyle='dashed', lw=2)\n",
    "\n",
    "axsm.xaxis.set_major_formatter(ScalarFormatter(useMathText=True))\n",
    "axsm.xaxis.get_major_formatter().set_powerlimits((0, 0))\n",
    "axsm.yaxis.set_major_formatter(ScalarFormatter(useMathText=True))\n",
    "axsm.yaxis.get_major_formatter().set_powerlimits((0, 0))\n",
    "\n",
    "\n",
    "axsm.set_xlabel('y [kpc]')\n",
    "axsm.set_ylabel('z [kpc]')\n",
    "axsm.set_title('Fiducial model and mean orbit')\n",
    "\n",
    "plt.savefig('./Plots/Fiducial_model_and_mean_orbit_comparison.png', facecolor='w')\n",
    "plt.show()"
   ]
  },
  {
   "cell_type": "code",
   "execution_count": 18,
   "id": "d15cf72a",
   "metadata": {},
   "outputs": [
    {
     "name": "stdout",
     "output_type": "stream",
     "text": [
      "Differences calculated\n",
      "Done st1\n"
     ]
    },
    {
     "name": "stderr",
     "output_type": "stream",
     "text": [
      "/usr/lib/python3/dist-packages/numpy/core/fromnumeric.py:3440: RuntimeWarning: Mean of empty slice.\n",
      "  return _methods._mean(a, axis=axis, dtype=dtype,\n",
      "/usr/lib/python3/dist-packages/numpy/core/_methods.py:189: RuntimeWarning: invalid value encountered in double_scalars\n",
      "  ret = ret.dtype.type(ret / rcount)\n"
     ]
    },
    {
     "name": "stdout",
     "output_type": "stream",
     "text": [
      "Done st2\n"
     ]
    }
   ],
   "source": [
    "#fid_aligned1 = stream_alignment_step1(fid_orbital_data, fid_stream_data)\n",
    "#print('Done st1')\n",
    "#fid_aligned2 = stream_alignment_step2(fid_orbital_data, fid_aligned1)\n",
    "#print('Done st2')"
   ]
  },
  {
   "cell_type": "code",
   "execution_count": 19,
   "id": "10a0fcf0",
   "metadata": {},
   "outputs": [],
   "source": [
    "# Saving aligned data\n",
    "#np.savetxt('Fid_aligned_data.txt', fid_aligned2, delimiter=',')"
   ]
  },
  {
   "cell_type": "code",
   "execution_count": 20,
   "id": "484ee3cb",
   "metadata": {},
   "outputs": [],
   "source": [
    "# Reading in the aligned data from file\n",
    "fid_aligned_data = np.loadtxt('Fid_aligned_data.txt', delimiter=',')\n",
    "fid_orbital_data = np.delete(hm_interpolated_orbit[fid_low_tstep:fid_high_tstep, :], 6, axis=1)"
   ]
  },
  {
   "cell_type": "code",
   "execution_count": 21,
   "id": "b8062ace",
   "metadata": {},
   "outputs": [
    {
     "name": "stdout",
     "output_type": "stream",
     "text": [
      "(997967, 9)\n"
     ]
    }
   ],
   "source": [
    "print(np.shape(fid_aligned_data))"
   ]
  },
  {
   "cell_type": "code",
   "execution_count": 24,
   "id": "fd8a12be",
   "metadata": {},
   "outputs": [
    {
     "name": "stdout",
     "output_type": "stream",
     "text": [
      "DONE\n",
      "1.653066714653995\n"
     ]
    }
   ],
   "source": [
    "#fid_variance = np.sum(fid_aligned1[:, -2])/len(fid_aligned1)\n",
    "#print('DONE')\n",
    "#print(fid_variance) #=1.653066714653995"
   ]
  },
  {
   "cell_type": "markdown",
   "id": "fb4cc612",
   "metadata": {},
   "source": [
    "figf1, axf1 = plt.subplots(1, 2, figsize=(15, 5))\n",
    "\n",
    "axf1[0].scatter(fid_aligned1[:, -1], fid_aligned1[:, -2], c='b', s=10)\n",
    "\n",
    "axf1[0].set_title('Aligned with mean orbit')\n",
    "axf1[0].set_xlabel(r'$D_{in}$ [kpc]')\n",
    "axf1[0].set_ylabel(r'$D_{mean}$ [kpc]')\n",
    "\n",
    "axf1[0].xaxis.set_major_formatter(ScalarFormatter(useMathText=True))\n",
    "axf1[0].xaxis.get_major_formatter().set_powerlimits((0, 0))\n",
    "axf1[0].yaxis.set_major_formatter(ScalarFormatter(useMathText=True))\n",
    "axf1[0].yaxis.get_major_formatter().set_powerlimits((0, 0))\n",
    "\n",
    "\n",
    "axf1[1].scatter(fid_aligned2[:, -2], fid_aligned2[:, -1], c='b', s=10)\n",
    "\n",
    "axf1[1].set_title('Centred alignment')\n",
    "axf1[1].set_xlabel(r'$D_{in}$ [kpc]')\n",
    "axf1[1].set_ylabel(r'$D_{mean}$ [kpc]')\n",
    "\n",
    "axf1[1].xaxis.set_major_formatter(ScalarFormatter(useMathText=True))\n",
    "axf1[1].xaxis.get_major_formatter().set_powerlimits((0, 0))\n",
    "axf1[1].yaxis.set_major_formatter(ScalarFormatter(useMathText=True))\n",
    "axf1[1].yaxis.get_major_formatter().set_powerlimits((0, 0))\n",
    "\n",
    "plt.tight_layout()\n",
    "plt.subplots_adjust(wspace=0.2)\n",
    "plt.savefig('./Plots/Stream_alignment_example.png', facecolor='w', bbox_inches='tight')\n",
    "plt.show()"
   ]
  },
  {
   "cell_type": "code",
   "execution_count": 25,
   "id": "f39679a1",
   "metadata": {},
   "outputs": [],
   "source": [
    "fid_length, fid_width, fid_part_dens = stream_shape(fid_orbital_data, fid_aligned_data)#fid_aligned2)"
   ]
  },
  {
   "cell_type": "code",
   "execution_count": 40,
   "id": "0e5133df",
   "metadata": {},
   "outputs": [],
   "source": [
    "#print(fid_stream_data[:10, 0])\n",
    "#print(fid_aligned2[:10, 0])"
   ]
  },
  {
   "cell_type": "markdown",
   "id": "169afbab",
   "metadata": {},
   "source": [
    "# Varying half-mass radius"
   ]
  },
  {
   "cell_type": "markdown",
   "id": "3910a094",
   "metadata": {},
   "source": [
    "## $r_h = 169 \\,$pc"
   ]
  },
  {
   "cell_type": "code",
   "execution_count": 26,
   "id": "9ad0dedc",
   "metadata": {},
   "outputs": [
    {
     "name": "stdout",
     "output_type": "stream",
     "text": [
      "Number of particles is conserved: True\n",
      "(1000533, 21, 40)\n",
      "(4, 40)\n",
      "(8, 40)\n",
      "[ 1.00053300e+06  4.99200000e+03  3.64209661e+01  1.54190715e+02\n",
      " -4.55238761e+01  6.30582240e+00  2.67887267e+01  1.52405019e+01]\n",
      "[0.169      0.16881856 0.16907346 0.16892613 0.16915764 0.16863088\n",
      " 0.16840973 0.17155981 0.18254941 0.18286319 0.18268747 0.18308307\n",
      " 0.18319419 0.18268545 0.18292534 0.18253086 0.1826969  0.18292205\n",
      " 0.18288146 0.18284111 0.18279883 0.18272474 0.18258043 0.18277588\n",
      " 0.18268331 0.18268213 0.18268542 0.18259469 0.18307923 0.18120179\n",
      " 0.20324449 0.19948777 0.19893272 0.19884509 0.19901486 0.19895888\n",
      " 0.19942967 0.20062486 0.20090593 0.2006727 ]\n",
      "0.2032444906812349\n",
      "0.16840972696581966\n",
      "(40,)\n",
      "(40,)\n",
      "CPU times: user 11min 19s, sys: 26.8 s, total: 11min 46s\n",
      "Wall time: 11min 43s\n"
     ]
    }
   ],
   "source": [
    "%%time\n",
    "#long_rad_mod_data, long_rad_mod_header, long_rad_mod_extra, long_rad_mod_hist_data = extract_data(r'long_radius_run_data', \n",
    "#                                                                                                                  r'Longer_radius_run', 39, 1)\n",
    "\n",
    "long_rad_mod_data, long_rad_mod_header, long_rad_mod_extra = extract_data_short(r'long_radius_run_data', \n",
    "                                                                                r'Longer_radius_run', 39)\n",
    "\n",
    "in_long_rad_mod_data, in_long_rad_mod_header, in_long_rad_mod_extra = extract_data_short(r'long_radius_run_data', \n",
    "                                                                                r'Longer_radius_run', 0)\n",
    "\n",
    "print(long_rad_mod_data.shape)\n",
    "print(long_rad_mod_extra.shape)\n",
    "print(long_rad_mod_header.shape)\n",
    "print(long_rad_mod_header[:, -1])\n",
    "\n",
    "long_rad_mod_halfmass_r = long_rad_mod_extra[0, :]\n",
    "print(long_rad_mod_halfmass_r)\n",
    "\n",
    "print(np.max(long_rad_mod_halfmass_r))\n",
    "print(np.min(long_rad_mod_halfmass_r))\n",
    "\n",
    "v_mean_long_rad_mod, r_mean_long_rad_mod = means_calc(long_rad_mod_header)\n",
    "\n",
    "print(v_mean_long_rad_mod.shape)\n",
    "print(r_mean_long_rad_mod.shape)"
   ]
  },
  {
   "cell_type": "code",
   "execution_count": 27,
   "id": "1329f52a",
   "metadata": {},
   "outputs": [
    {
     "data": {
      "image/png": "[encoded data removed]",
      "text/plain": [
       "<Figure size 576x576 with 1 Axes>"
      ]
     },
     "metadata": {
      "needs_background": "light"
     },
     "output_type": "display_data"
    }
   ],
   "source": [
    "figlr1, axlr1 = plt.subplots(figsize=(8, 8))\n",
    "\n",
    "lr_low_tstep = 750\n",
    "lr_high_tstep = -230\n",
    "\n",
    "axlr1.plot(hm_interpolated_orbit[lr_low_tstep:lr_high_tstep, 1], \n",
    "             hm_interpolated_orbit[lr_low_tstep:lr_high_tstep, 2], \n",
    "             color='r', zorder=10, lw=2, linestyle='dashed', label='Interpolated orbit')\n",
    "\n",
    "axlr1.scatter(long_rad_mod_data[:, 2], long_rad_mod_data[:, 3], c='b', zorder=0, s=1, \n",
    "               label='Long radius stream')\n",
    "\n",
    "axlr1.set_xlabel('y [kpc]')\n",
    "axlr1.set_ylabel('z [kpc]')\n",
    "axlr1.xaxis.set_major_formatter(ScalarFormatter(useMathText=True))\n",
    "axlr1.xaxis.get_major_formatter().set_powerlimits((0, 0))\n",
    "axlr1.yaxis.set_major_formatter(ScalarFormatter(useMathText=True))\n",
    "axlr1.yaxis.get_major_formatter().set_powerlimits((0, 0))\n",
    "\n",
    "axlr1.legend()\n",
    "\n",
    "\n",
    "plt.show()"
   ]
  },
  {
   "cell_type": "code",
   "execution_count": null,
   "id": "988613e9",
   "metadata": {},
   "outputs": [],
   "source": []
  },
  {
   "cell_type": "markdown",
   "id": "2078fcc1",
   "metadata": {
    "scrolled": true
   },
   "source": [
    "snapshots = [0, 14, 27, -1]\n",
    "snapshots_plot(long_rad_mod_data, snapshots, 25.0e1, 25.0e1, (11, 20), 1, 'Long_radius_model', \n",
    "               save=False)"
   ]
  },
  {
   "cell_type": "code",
   "execution_count": 43,
   "id": "0643bf34",
   "metadata": {},
   "outputs": [],
   "source": [
    "#anim_3d(long_rad_mod_data, long_rad_mod_header, tstep=128, \n",
    "#        nsteps=39+1, lims=25.0e1, fsize=(10, 10), \n",
    "#        marker_size=1, tx=-1.5e2, ty=2.0e2, tz=2.0e2, \n",
    "#        format_type='mp4', fps=6, run='Long_radius_model')"
   ]
  },
  {
   "cell_type": "code",
   "execution_count": 44,
   "id": "2ceed9d9",
   "metadata": {},
   "outputs": [],
   "source": [
    "#anim_ComparetoTraceback(long_rad_mod_data, trace_back_data, lims=2.5e2, \n",
    "#                        run_file='Long_radius_run_and_trace_back', run_title='Long radius run compared to trace back',\n",
    "#                        fsize=(10, 10), fps=2, format_type='mp4')"
   ]
  },
  {
   "cell_type": "code",
   "execution_count": null,
   "id": "c8657a80",
   "metadata": {},
   "outputs": [],
   "source": [
    "#stream_data_lr = long_rad_mod_data[:, 1:7, -1]\n",
    "#lr_orbital_data = np.delete(hm_interpolated_orbit[lr_low_tstep:lr_high_tstep, :], 6, axis=1)"
   ]
  },
  {
   "cell_type": "code",
   "execution_count": 28,
   "id": "fc192afd",
   "metadata": {},
   "outputs": [
    {
     "name": "stdout",
     "output_type": "stream",
     "text": [
      "Differences calculated\n",
      "St1 Done\n"
     ]
    },
    {
     "name": "stderr",
     "output_type": "stream",
     "text": [
      "/usr/lib/python3/dist-packages/numpy/core/fromnumeric.py:3440: RuntimeWarning: Mean of empty slice.\n",
      "  return _methods._mean(a, axis=axis, dtype=dtype,\n",
      "/usr/lib/python3/dist-packages/numpy/core/_methods.py:189: RuntimeWarning: invalid value encountered in double_scalars\n",
      "  ret = ret.dtype.type(ret / rcount)\n"
     ]
    },
    {
     "name": "stdout",
     "output_type": "stream",
     "text": [
      "St2 Done\n"
     ]
    }
   ],
   "source": [
    "#lr_aligned1 = stream_alignment_step1(lr_orbital_data, stream_data_lr)\n",
    "#print('St1 Done')\n",
    "#lr_aligned2 = stream_alignment_step2(lr_orbital_data, lr_aligned1)\n",
    "#print('St2 Done')"
   ]
  },
  {
   "cell_type": "code",
   "execution_count": 29,
   "id": "199a9a03",
   "metadata": {},
   "outputs": [],
   "source": [
    "# Saving aligned data\n",
    "#np.savetxt('Lr_aligned_data.txt', lr_aligned2, delimiter=',')"
   ]
  },
  {
   "cell_type": "code",
   "execution_count": 30,
   "id": "ab3aa52a",
   "metadata": {},
   "outputs": [],
   "source": [
    "# Reading in the aligned data from file\n",
    "lr_aligned_data = np.loadtxt('Lr_aligned_data.txt', delimiter=',')\n",
    "lr_orbital_data = np.delete(hm_interpolated_orbit[lr_low_tstep:lr_high_tstep, :], 6, axis=1)"
   ]
  },
  {
   "cell_type": "code",
   "execution_count": 31,
   "id": "34e2bdb6",
   "metadata": {},
   "outputs": [
    {
     "name": "stdout",
     "output_type": "stream",
     "text": [
      "(1000533, 9)\n"
     ]
    }
   ],
   "source": [
    "#print(np.shape(lr_aligned_data))"
   ]
  },
  {
   "cell_type": "code",
   "execution_count": 32,
   "id": "c2c882f1",
   "metadata": {},
   "outputs": [
    {
     "name": "stdout",
     "output_type": "stream",
     "text": [
      "DONE\n"
     ]
    }
   ],
   "source": [
    "lr_length, lr_width, lr_part_dens = stream_shape(lr_orbital_data, lr_aligned_data)\n",
    "print('DONE')"
   ]
  },
  {
   "cell_type": "code",
   "execution_count": 33,
   "id": "3b00d594",
   "metadata": {},
   "outputs": [
    {
     "name": "stdout",
     "output_type": "stream",
     "text": [
      "1.9802923926766476\n"
     ]
    }
   ],
   "source": [
    "#lr_variance = np.sum(lr_aligned1[:, -2])/len(lr_aligned1)\n",
    "\n",
    "#print(lr_variance) #1.9802923926766476"
   ]
  },
  {
   "cell_type": "code",
   "execution_count": null,
   "id": "def2e2fc",
   "metadata": {},
   "outputs": [],
   "source": []
  },
  {
   "cell_type": "markdown",
   "id": "998a9979",
   "metadata": {},
   "source": [
    "## $r_h = 137 \\,$pc"
   ]
  },
  {
   "cell_type": "code",
   "execution_count": 34,
   "id": "a65d3ae1",
   "metadata": {},
   "outputs": [
    {
     "name": "stdout",
     "output_type": "stream",
     "text": [
      "Number of particles is conserved: True\n",
      "(1002148, 21, 40)\n",
      "(4, 40)\n",
      "(8, 40)\n",
      "[ 1.00214800e+06  4.99200000e+03  3.64196647e+01  1.54208955e+02\n",
      " -4.55264088e+01  6.32214161e+00  2.68197512e+01  1.52673799e+01]\n",
      "[0.137      0.13720959 0.13710806 0.13694002 0.13724839 0.1368118\n",
      " 0.1368667  0.13997547 0.14225931 0.14244258 0.1423762  0.14220089\n",
      " 0.14237255 0.14197493 0.14231756 0.1422445  0.14202831 0.14207533\n",
      " 0.14214844 0.14251183 0.14236977 0.14213855 0.14227252 0.14221791\n",
      " 0.14232703 0.14250612 0.14223919 0.14256253 0.14225014 0.14190846\n",
      " 0.1473178  0.14743233 0.14711443 0.14712224 0.14726445 0.1474863\n",
      " 0.14758518 0.14719936 0.14774667 0.14762151]\n",
      "0.14774667400723443\n",
      "0.13681179893056963\n",
      "(40,)\n",
      "(40,)\n",
      "CPU times: user 11min 21s, sys: 23.1 s, total: 11min 44s\n",
      "Wall time: 11min 46s\n"
     ]
    }
   ],
   "source": [
    "%%time\n",
    "#short_rad_mod_data, short_rad_mod_header, short_rad_mod_extra, short_rad_mod_hist_data = extract_data(r'short_radius_run_data', \n",
    "#                                                                                                                  r'Shorter_radius_run', 39, 1)\n",
    "\n",
    "short_rad_mod_data, short_rad_mod_header, short_rad_mod_extra = extract_data_short(r'short_radius_run_data', \n",
    "                                                                                   r'Shorter_radius_run', 39)\n",
    "\n",
    "in_short_rad_mod_data, in_short_rad_mod_header, in_short_rad_mod_extra = extract_data_short(r'short_radius_run_data', \n",
    "                                                                                   r'Shorter_radius_run', 0)\n",
    "\n",
    "\n",
    "print(short_rad_mod_data.shape)\n",
    "print(short_rad_mod_extra.shape)\n",
    "print(short_rad_mod_header.shape)\n",
    "print(short_rad_mod_header[:, -1])\n",
    "\n",
    "short_rad_mod_halfmass_r = short_rad_mod_extra[0, :]\n",
    "print(short_rad_mod_halfmass_r)\n",
    "\n",
    "print(np.max(short_rad_mod_halfmass_r))\n",
    "print(np.min(short_rad_mod_halfmass_r))\n",
    "\n",
    "v_mean_short_rad_mod, r_mean_short_rad_mod = means_calc(short_rad_mod_header)\n",
    "\n",
    "print(v_mean_short_rad_mod.shape)\n",
    "print(r_mean_short_rad_mod.shape)"
   ]
  },
  {
   "cell_type": "code",
   "execution_count": 35,
   "id": "cb1584a8",
   "metadata": {},
   "outputs": [
    {
     "data": {
      "image/png": "[encoded data removed]",
      "text/plain": [
       "<Figure size 576x576 with 1 Axes>"
      ]
     },
     "metadata": {
      "needs_background": "light"
     },
     "output_type": "display_data"
    }
   ],
   "source": [
    "figsr1, axsr1 = plt.subplots(figsize=(8, 8))\n",
    "\n",
    "sr_low_tstep = 550\n",
    "sr_high_tstep = -100\n",
    "\n",
    "axsr1.plot(hm_interpolated_orbit[sr_low_tstep:sr_high_tstep, 1], \n",
    "             hm_interpolated_orbit[sr_low_tstep:sr_high_tstep, 2], \n",
    "             color='r', zorder=10, lw=2, linestyle='dashed', label='Interpolated orbit')\n",
    "\n",
    "axsr1.scatter(short_rad_mod_data[:, 2], short_rad_mod_data[:, 3], c='b', zorder=0, s=1, \n",
    "               label='Short radius stream')\n",
    "\n",
    "axsr1.set_xlabel('y [kpc]')\n",
    "axsr1.set_ylabel('z [kpc]')\n",
    "axsr1.xaxis.set_major_formatter(ScalarFormatter(useMathText=True))\n",
    "axsr1.xaxis.get_major_formatter().set_powerlimits((0, 0))\n",
    "axsr1.yaxis.set_major_formatter(ScalarFormatter(useMathText=True))\n",
    "axsr1.yaxis.get_major_formatter().set_powerlimits((0, 0))\n",
    "\n",
    "axsr1.legend()\n",
    "\n",
    "\n",
    "plt.show()"
   ]
  },
  {
   "cell_type": "markdown",
   "id": "e1b056db",
   "metadata": {
    "scrolled": true
   },
   "source": [
    "snapshots = [0, 14, 27, -1]\n",
    "snapshots_plot(short_rad_mod_data, snapshots, 25.0e1, 25.0e1, (11, 20), 1, 'Short_radius_model', \n",
    "               save=False)"
   ]
  },
  {
   "cell_type": "code",
   "execution_count": null,
   "id": "6e0156c7",
   "metadata": {},
   "outputs": [],
   "source": [
    "#%%time\n",
    "#anim_3d(short_rad_mod_data, short_rad_mod_header, tstep=128, \n",
    "#        nsteps=39+1, lims=25.0e1, fsize=(10, 10), \n",
    "#        marker_size=1, tx=-1.5e2, ty=2.0e2, tz=2.0e2, \n",
    "#        format_type='mp4', fps=6, run='Short_radius_model')"
   ]
  },
  {
   "cell_type": "code",
   "execution_count": null,
   "id": "dc86627a",
   "metadata": {},
   "outputs": [],
   "source": [
    "#anim_ComparetoTraceback(short_rad_mod_data, trace_back_data, lims=2.5e2, \n",
    "#                        run_file='Short_radius_run_and_trace_back', run_title='Short radius run compared to trace back',\n",
    "#                        fsize=(10, 10), fps=2, format_type='mp4')"
   ]
  },
  {
   "cell_type": "code",
   "execution_count": 36,
   "id": "5ceb5803",
   "metadata": {},
   "outputs": [
    {
     "name": "stdout",
     "output_type": "stream",
     "text": [
      "Differences calculated\n",
      "St1 DONE\n"
     ]
    },
    {
     "name": "stderr",
     "output_type": "stream",
     "text": [
      "/usr/lib/python3/dist-packages/numpy/core/fromnumeric.py:3440: RuntimeWarning: Mean of empty slice.\n",
      "  return _methods._mean(a, axis=axis, dtype=dtype,\n",
      "/usr/lib/python3/dist-packages/numpy/core/_methods.py:189: RuntimeWarning: invalid value encountered in double_scalars\n",
      "  ret = ret.dtype.type(ret / rcount)\n"
     ]
    },
    {
     "name": "stdout",
     "output_type": "stream",
     "text": [
      "St2 DONE\n"
     ]
    }
   ],
   "source": [
    "#stream_data_sr = short_rad_mod_data[:, 1:7, -1]\n",
    "#sr_orbital_data = np.delete(hm_interpolated_orbit[sr_low_tstep:sr_high_tstep, :], 6, axis=1)\n",
    "\n",
    "#sr_aligned1 = stream_alignment_step1(sr_orbital_data, stream_data_sr)\n",
    "#print('St1 DONE')\n",
    "#sr_aligned2 = stream_alignment_step2(sr_orbital_data, sr_aligned1)\n",
    "#print('St2 DONE')"
   ]
  },
  {
   "cell_type": "code",
   "execution_count": 37,
   "id": "1c52db64",
   "metadata": {},
   "outputs": [],
   "source": [
    "# Saving aligned data\n",
    "#np.savetxt('Sr_aligned_data.txt', sr_aligned2, delimiter=',')"
   ]
  },
  {
   "cell_type": "code",
   "execution_count": 38,
   "id": "2988433c",
   "metadata": {},
   "outputs": [],
   "source": [
    "# Reading in the aligned data from file\n",
    "sr_aligned_data = np.loadtxt('Sr_aligned_data.txt', delimiter=',')\n",
    "sr_orbital_data = np.delete(hm_interpolated_orbit[sr_low_tstep:sr_high_tstep, :], 6, axis=1)"
   ]
  },
  {
   "cell_type": "code",
   "execution_count": 39,
   "id": "ffcaaea8",
   "metadata": {},
   "outputs": [
    {
     "name": "stdout",
     "output_type": "stream",
     "text": [
      "(1002148, 9)\n"
     ]
    }
   ],
   "source": [
    "print(np.shape(sr_aligned_data))"
   ]
  },
  {
   "cell_type": "code",
   "execution_count": 40,
   "id": "a39b5565",
   "metadata": {},
   "outputs": [
    {
     "name": "stdout",
     "output_type": "stream",
     "text": [
      "Done\n"
     ]
    }
   ],
   "source": [
    "sr_length, sr_width, sr_part_dens = stream_shape(sr_orbital_data, sr_aligned_data)\n",
    "print('Done')"
   ]
  },
  {
   "cell_type": "code",
   "execution_count": 41,
   "id": "f7f5454c",
   "metadata": {},
   "outputs": [
    {
     "name": "stdout",
     "output_type": "stream",
     "text": [
      "1.3551041314660475\n"
     ]
    }
   ],
   "source": [
    "#sr_variance = np.sum(sr_aligned1[:, -2])/len(sr_aligned1)\n",
    "\n",
    "#print(sr_variance) #1.3551041314660475"
   ]
  },
  {
   "cell_type": "code",
   "execution_count": 42,
   "id": "9c272ee5",
   "metadata": {},
   "outputs": [],
   "source": [
    "#tot_mass = np.sum(short_rad_mod_data[:, 0, -1])\n",
    "\n",
    "#print(tot_mass)"
   ]
  },
  {
   "cell_type": "code",
   "execution_count": null,
   "id": "587a29bb",
   "metadata": {},
   "outputs": [],
   "source": []
  },
  {
   "cell_type": "markdown",
   "id": "20562223",
   "metadata": {},
   "source": [
    "# Varying dynamical mass"
   ]
  },
  {
   "cell_type": "markdown",
   "id": "341b0f3c",
   "metadata": {},
   "source": [
    "## $M_{dyn} = 13 \\,$M$_{\\odot}$"
   ]
  },
  {
   "cell_type": "markdown",
   "id": "05297066",
   "metadata": {},
   "source": [
    "**This is done in the beginning instead!!!**"
   ]
  },
  {
   "cell_type": "code",
   "execution_count": null,
   "id": "f28e87bd",
   "metadata": {},
   "outputs": [],
   "source": [
    "%%time\n",
    "high_mass_mod_data, high_mass_mod_header, high_mass_mod_extra, high_mass_mod_hist_data = extract_data(r'high_mass_run_data', \n",
    "                                                                                                                  r'High_mass_run', 39, 1)\n",
    "\n",
    "print(high_mass_mod_data.shape)\n",
    "print(high_mass_mod_extra.shape)\n",
    "print(high_mass_mod_header.shape)\n",
    "print(high_mass_mod_header[:, -1])\n",
    "\n",
    "high_mass_mod_halfmass_r = high_mass_mod_extra[0, :]\n",
    "print(high_mass_mod_halfmass_r)\n",
    "\n",
    "print(np.max(high_mass_mod_halfmass_r))\n",
    "print(np.min(high_mass_mod_halfmass_r))\n",
    "\n",
    "v_mean_high_mass_mod, r_mean_high_mass_mod = means_calc(high_mass_mod_header)\n",
    "\n",
    "print(v_mean_high_mass_mod.shape)\n",
    "print(r_mean_high_mass_mod.shape)"
   ]
  },
  {
   "cell_type": "markdown",
   "id": "c9d6a05f",
   "metadata": {
    "scrolled": true
   },
   "source": [
    "snapshots = [0, 14, 27, -1]\n",
    "snapshots_plot(high_mass_mod_data, snapshots, 25.0e1, 25.0e1, (11, 20), 1, 'High_mass_model', \n",
    "               save=False)"
   ]
  },
  {
   "cell_type": "code",
   "execution_count": null,
   "id": "6ae2a94a",
   "metadata": {},
   "outputs": [],
   "source": [
    "#%%time\n",
    "#anim_3d(high_mass_mod_data, high_mass_mod_header, tstep=128, \n",
    "#        nsteps=39+1, lims=25.0e1, fsize=(10, 10), \n",
    "#        marker_size=1, tx=-1.5e2, ty=2.0e2, tz=2.0e2, \n",
    "#        format_type='mp4', fps=6, run='High_mass_model')"
   ]
  },
  {
   "cell_type": "code",
   "execution_count": null,
   "id": "5a718581",
   "metadata": {},
   "outputs": [],
   "source": [
    "#anim_ComparetoTraceback(high_mass_mod_data, trace_back_data, lims=2.5e2, \n",
    "#                        run_file='High_mass_run_and_trace_back', run_title='High mass run compared to trace back',\n",
    "#                        fsize=(10, 10), fps=2, format_type='mp4')"
   ]
  },
  {
   "cell_type": "code",
   "execution_count": 19,
   "id": "58388979",
   "metadata": {},
   "outputs": [
    {
     "ename": "ValueError",
     "evalue": "operands could not be broadcast together with shapes (1000066,1,3,1) (4945,3) ",
     "output_type": "error",
     "traceback": [
      "\u001b[0;31m---------------------------------------------------------------------------\u001b[0m",
      "\u001b[0;31mValueError\u001b[0m                                Traceback (most recent call last)",
      "\u001b[0;32m/tmp/ipykernel_3913987/3040224968.py\u001b[0m in \u001b[0;36m<module>\u001b[0;34m\u001b[0m\n\u001b[1;32m      2\u001b[0m \u001b[0mhm_orbital_data\u001b[0m \u001b[0;34m=\u001b[0m \u001b[0mnp\u001b[0m\u001b[0;34m.\u001b[0m\u001b[0mdelete\u001b[0m\u001b[0;34m(\u001b[0m\u001b[0mhm_interpolated_orbit\u001b[0m\u001b[0;34m,\u001b[0m \u001b[0;36m6\u001b[0m\u001b[0;34m,\u001b[0m \u001b[0maxis\u001b[0m\u001b[0;34m=\u001b[0m\u001b[0;36m1\u001b[0m\u001b[0;34m)\u001b[0m\u001b[0;34m\u001b[0m\u001b[0;34m\u001b[0m\u001b[0m\n\u001b[1;32m      3\u001b[0m \u001b[0;34m\u001b[0m\u001b[0m\n\u001b[0;32m----> 4\u001b[0;31m \u001b[0mhm_aligned1\u001b[0m \u001b[0;34m=\u001b[0m \u001b[0mstream_alignment_step1\u001b[0m\u001b[0;34m(\u001b[0m\u001b[0mhm_orbital_data\u001b[0m\u001b[0;34m,\u001b[0m \u001b[0mstream_data_hm\u001b[0m\u001b[0;34m)\u001b[0m\u001b[0;34m\u001b[0m\u001b[0;34m\u001b[0m\u001b[0m\n\u001b[0m\u001b[1;32m      5\u001b[0m \u001b[0mprint\u001b[0m\u001b[0;34m(\u001b[0m\u001b[0;34m'St1 DONE'\u001b[0m\u001b[0;34m)\u001b[0m\u001b[0;34m\u001b[0m\u001b[0;34m\u001b[0m\u001b[0m\n\u001b[1;32m      6\u001b[0m \u001b[0mhm_aligned2\u001b[0m \u001b[0;34m=\u001b[0m \u001b[0mstream_alignment_step2\u001b[0m\u001b[0;34m(\u001b[0m\u001b[0mhm_orbital_data\u001b[0m\u001b[0;34m,\u001b[0m \u001b[0mhm_aligned1\u001b[0m\u001b[0;34m)\u001b[0m\u001b[0;34m\u001b[0m\u001b[0;34m\u001b[0m\u001b[0m\n",
      "\u001b[0;32m~/Desktop/Codes/Analysis_functions.ipynb\u001b[0m in \u001b[0;36mstream_alignment_step1\u001b[0;34m(orbit_data, stream_data)\u001b[0m\n",
      "\u001b[0;31mValueError\u001b[0m: operands could not be broadcast together with shapes (1000066,1,3,1) (4945,3) "
     ]
    }
   ],
   "source": [
    "stream_data_hm = high_mass_mod_data[:, 1:7]\n",
    "hm_orbital_data = np.delete(hm_interpolated_orbit, 6, axis=1)\n",
    "\n",
    "hm_aligned1 = stream_alignment_step1(hm_orbital_data, stream_data_hm)\n",
    "print('St1 DONE')\n",
    "hm_aligned2 = stream_alignment_step2(hm_orbital_data, hm_aligned1)\n",
    "print('St2 DONE')"
   ]
  },
  {
   "cell_type": "code",
   "execution_count": 29,
   "id": "a042d77f",
   "metadata": {},
   "outputs": [],
   "source": [
    "# Saving aligned data\n",
    "np.savetxt('Hm_aligned_data.txt', hm_aligned2, delimiter=',')"
   ]
  },
  {
   "cell_type": "code",
   "execution_count": 30,
   "id": "5a971566",
   "metadata": {},
   "outputs": [],
   "source": [
    "# Reading in the aligned data from file\n",
    "hm_aligned_data = np.loadtxt('Hm_aligned_data.txt', delimiter=',')\n",
    "#hm_orbital_data = np.delete(hm_interpolated_orbit, 6, axis=1)"
   ]
  },
  {
   "cell_type": "code",
   "execution_count": 31,
   "id": "bd265daf",
   "metadata": {},
   "outputs": [
    {
     "name": "stdout",
     "output_type": "stream",
     "text": [
      "(1000533, 9)\n"
     ]
    }
   ],
   "source": [
    "print(np.shape(hm_aligned_data))"
   ]
  },
  {
   "cell_type": "code",
   "execution_count": null,
   "id": "8cbd2fa5",
   "metadata": {},
   "outputs": [],
   "source": [
    "hm_length, hm_width, hm_part_dens = stream_shape(hm_orbital_data, hm_aligned_data)\n",
    "print('DONE')"
   ]
  },
  {
   "cell_type": "code",
   "execution_count": null,
   "id": "1cf95818",
   "metadata": {},
   "outputs": [],
   "source": [
    "hm_variance = np.sum(hm_aligned1[:, -2])/len(hm_aligned1)\n",
    "\n",
    "print(hm_variance)"
   ]
  },
  {
   "cell_type": "code",
   "execution_count": null,
   "id": "b9c81c05",
   "metadata": {},
   "outputs": [],
   "source": [
    "tot_mass = np.sum(high_mass_mod_data[:, 0, -1])\n",
    "\n",
    "print(tot_mass)"
   ]
  },
  {
   "cell_type": "markdown",
   "id": "3b1b8a71",
   "metadata": {},
   "source": [
    "upper_part_mask = np.where(high_mass_mod_data[:, 3, -1] == np.max(high_mass_mod_data[:, 3, -1]))\n",
    "upper_part_pos = high_mass_mod_data[upper_part_mask, 1:4, -1]\n",
    "print(np.shape(upper_part_pos))\n",
    "upper_orb_part = orbital_data[0, :3]\n",
    "\n",
    "diff = upper_part_pos - upper_orb_part\n",
    "dist = np.sqrt(np.sum(diff**2))\n",
    "print(dist)\n",
    "\n",
    "hm_length = hm_length + dist"
   ]
  },
  {
   "cell_type": "markdown",
   "id": "17126f96",
   "metadata": {},
   "source": [
    "fighmt = plt.figure(figsize=(10, 8))\n",
    "axhmt = fighmt.add_subplot(projection='3d', computed_zorder=False)\n",
    "\n",
    "axhmt.scatter(high_mass_mod_data[:, 1, -1], high_mass_mod_data[:, 2, -1], high_mass_mod_data[:, 3, -1], \n",
    "              s=5, c='b', alpha=0.5, zorder=0)\n",
    "axhmt.scatter(upper_part_pos[:, :, 0], upper_part_pos[:, :, 1], upper_part_pos[:, :, 2], \n",
    "              s=10, c='r', zorder=20)\n",
    "\n",
    "axhmt.plot(orbital_data[:, 0], orbital_data[:, 1], orbital_data[:, 2], \n",
    "              color='k', zorder=5)\n",
    "axhmt.scatter(orbital_data[0, 0], orbital_data[0, 1], orbital_data[0, 2], \n",
    "              c='g', zorder=20)\n",
    "#sc = axhmt.scatter(fid_core_part[:, 0], fid_core_part[:, 1], fid_core_part[:, 2], s=10, c=fid_core_part[:, 1], \n",
    "#             alpha=0.5, cmap='spring')\n",
    "\n",
    "#plt.colorbar(sc, label='y [pc]')\n",
    "axhmt.set_xlabel('x [kpc]', labelpad=15)\n",
    "axhmt.set_ylabel('y [kpc]', labelpad=15)\n",
    "axhmt.set_zlabel('z [kpc]', labelpad=5)\n",
    "axhmt.xaxis.set_major_formatter(ScalarFormatter(useMathText=True))\n",
    "axhmt.xaxis.get_major_formatter().set_powerlimits((0, 0))\n",
    "axhmt.yaxis.set_major_formatter(ScalarFormatter(useMathText=True))\n",
    "axhmt.yaxis.get_major_formatter().set_powerlimits((0, 0))\n",
    "axhmt.zaxis.set_major_formatter(ScalarFormatter(useMathText=True))\n",
    "axhmt.zaxis.get_major_formatter().set_powerlimits((0, 0))\n",
    "\n",
    "axhmt.view_init(4, 45)\n",
    "\n",
    "\n",
    "plt.show()"
   ]
  },
  {
   "cell_type": "markdown",
   "id": "f0fbef9c",
   "metadata": {},
   "source": [
    "## $M_{dyn} = 6 \\,$M$_{\\odot}$"
   ]
  },
  {
   "cell_type": "code",
   "execution_count": null,
   "id": "7f512f49",
   "metadata": {},
   "outputs": [],
   "source": [
    "%%time\n",
    "low_mass_mod_data, low_mass_mod_header, low_mass_mod_extra, low_mass_mod_hist_data = extract_data(r'low_mass_run_data', \n",
    "                                                                                                                  r'Low_mass_run', 39, 1)\n",
    "\n",
    "print(low_mass_mod_data.shape)\n",
    "print(low_mass_mod_extra.shape)\n",
    "print(low_mass_mod_header.shape)\n",
    "print(low_mass_mod_header[:, -1])\n",
    "\n",
    "low_mass_mod_halfmass_r = low_mass_mod_extra[0, :]\n",
    "print(low_mass_mod_halfmass_r)\n",
    "\n",
    "print(np.max(low_mass_mod_halfmass_r))\n",
    "print(np.min(low_mass_mod_halfmass_r))\n",
    "\n",
    "v_mean_low_mass_mod, r_mean_low_mass_mod = means_calc(low_mass_mod_header)\n",
    "\n",
    "print(v_mean_low_mass_mod.shape)\n",
    "print(r_mean_low_mass_mod.shape)"
   ]
  },
  {
   "cell_type": "code",
   "execution_count": 44,
   "id": "1928ee08",
   "metadata": {},
   "outputs": [
    {
     "data": {
      "image/png": "[encoded data removed]",
      "text/plain": [
       "<Figure size 576x576 with 1 Axes>"
      ]
     },
     "metadata": {
      "needs_background": "light"
     },
     "output_type": "display_data"
    }
   ],
   "source": [
    "figlm1, axlm1 = plt.subplots(figsize=(8, 8))\n",
    "\n",
    "lm_low_tstep = 550\n",
    "lm_high_tstep = -100\n",
    "\n",
    "axlm1.plot(hm_interpolated_orbit[lm_low_tstep:lm_high_tstep, 1], \n",
    "             hm_interpolated_orbit[lm_low_tstep:lm_high_tstep, 2], \n",
    "             color='r', zorder=10, lw=2, linestyle='dashed', label='Interpolated orbit')\n",
    "\n",
    "axlm1.scatter(low_mass_mod_data[:, 2, -1], low_mass_mod_data[:, 3, -1], c='b', zorder=0, s=1, \n",
    "               label='Low mass stream')\n",
    "\n",
    "axlm1.set_xlabel('y [kpc]')\n",
    "axlm1.set_ylabel('z [kpc]')\n",
    "axlm1.xaxis.set_major_formatter(ScalarFormatter(useMathText=True))\n",
    "axlm1.xaxis.get_major_formatter().set_powerlimits((0, 0))\n",
    "axlm1.yaxis.set_major_formatter(ScalarFormatter(useMathText=True))\n",
    "axlm1.yaxis.get_major_formatter().set_powerlimits((0, 0))\n",
    "\n",
    "axlm1.legend()\n",
    "\n",
    "\n",
    "plt.show()"
   ]
  },
  {
   "cell_type": "markdown",
   "id": "b6299bea",
   "metadata": {
    "scrolled": true
   },
   "source": [
    "snapshots = [0, 14, 27, -1]\n",
    "snapshots_plot(low_mass_mod_data, snapshots, 25.0e1, 25.0e1, (11, 20), 1, 'Low_mass_model', \n",
    "               save=False)"
   ]
  },
  {
   "cell_type": "code",
   "execution_count": null,
   "id": "242239d2",
   "metadata": {},
   "outputs": [],
   "source": [
    "#%%time\n",
    "#anim_3d(low_mass_mod_data, low_mass_mod_header, tstep=128, \n",
    "#        nsteps=39+1, lims=25.0e1, fsize=(10, 10), \n",
    "#        marker_size=1, tx=-1.5e2, ty=2.0e2, tz=2.0e2, \n",
    "#        format_type='mp4', fps=6, run='Low_mass_model')"
   ]
  },
  {
   "cell_type": "code",
   "execution_count": null,
   "id": "27253647",
   "metadata": {},
   "outputs": [],
   "source": [
    "#anim_ComparetoTraceback(low_mass_mod_data, trace_back_data, lims=2.5e2, \n",
    "#                        run_file='Low_mass_run_and_trace_back', run_title='Low mass run compared to trace back',\n",
    "#                        fsize=(10, 10), fps=2, format_type='mp4')"
   ]
  },
  {
   "cell_type": "code",
   "execution_count": null,
   "id": "0eb59a5f",
   "metadata": {},
   "outputs": [],
   "source": [
    "stream_data_lm = low_mass_mod_data[:, 1:7, -1]\n",
    "lm_orbital_data = np.delete(hm_interpolated_orbit[lm_low_tstep:lm_high:tstep, :], 6, axis=1)\n",
    "\n",
    "lm_aligned1 = stream_alignment_step1(orbital_data, stream_data_lm)\n",
    "print('St1 DONE')\n",
    "lm_aligned2 = stream_alignment_step2(orbital_data, lm_aligned1)\n",
    "print('St2 DONE')"
   ]
  },
  {
   "cell_type": "code",
   "execution_count": 29,
   "id": "1f42abb8",
   "metadata": {},
   "outputs": [],
   "source": [
    "# Saving aligned data\n",
    "np.savetxt('Lm_aligned_data.txt', lm_aligned2, delimiter=',')"
   ]
  },
  {
   "cell_type": "code",
   "execution_count": 30,
   "id": "9a438018",
   "metadata": {},
   "outputs": [],
   "source": [
    "# Reading in the aligned data from file\n",
    "lm_aligned_data = np.loadtxt('Lm_aligned_data.txt', delimiter=',')"
   ]
  },
  {
   "cell_type": "code",
   "execution_count": 31,
   "id": "c29e3957",
   "metadata": {},
   "outputs": [
    {
     "name": "stdout",
     "output_type": "stream",
     "text": [
      "(1000533, 9)\n"
     ]
    }
   ],
   "source": [
    "print(np.shape(lm_aligned_data))"
   ]
  },
  {
   "cell_type": "code",
   "execution_count": null,
   "id": "fe04b520",
   "metadata": {},
   "outputs": [],
   "source": [
    "lm_length, lm_width, lm_part_dens = stream_shape(orbital_data, lm_aligned_data)\n",
    "print('DONE')"
   ]
  },
  {
   "cell_type": "code",
   "execution_count": null,
   "id": "b7e9d261",
   "metadata": {},
   "outputs": [],
   "source": [
    "lm_variance = np.sum(lm_aligned1[:, -2])/len(lm_aligned1)\n",
    "\n",
    "print(lm_variance)"
   ]
  },
  {
   "cell_type": "code",
   "execution_count": null,
   "id": "f5a73436",
   "metadata": {},
   "outputs": [],
   "source": [
    "tot_mass2 = np.sum(low_mass_mod_data[:, 0, -1])\n",
    "\n",
    "print(tot_mass)"
   ]
  },
  {
   "cell_type": "markdown",
   "id": "4f2f21b0",
   "metadata": {},
   "source": [
    "## Comparing the 5 different simulations"
   ]
  },
  {
   "cell_type": "markdown",
   "id": "7ea7abdb",
   "metadata": {},
   "source": [
    "from matplotlib import gridspec as gs"
   ]
  },
  {
   "cell_type": "markdown",
   "id": "d25f7b3a",
   "metadata": {},
   "source": [
    "fig9 = plt.figure(figsize=(14, 12))\n",
    "\n",
    "models = [run_fid_large_mod_data, run_long_rad_mod_data, run_short_rad_mod_data, run_high_mass_mod_data, run_low_mass_mod_data]\n",
    "titles = ['Fiducial run', 'Long radius run', 'Short radius run', 'High mass run', 'Low mass run']\n",
    "\n",
    "u = np.linspace(0, 2 * np.pi, 100)\n",
    "v = np.linspace(0, np.pi, 100)\n",
    "\n",
    "min_lim = -1.5e5\n",
    "max_lim = 1.5e5\n",
    "\n",
    "\n",
    "x_bulge = 1500 * np.outer(np.cos(u), np.sin(v))\n",
    "y_bulge = 1500 * np.outer(np.sin(u), np.sin(v))\n",
    "z_bulge = 1500 * np.outer(np.ones(np.size(u)), np.cos(v))\n",
    "\n",
    "x_disc = 14490 * np.outer(np.cos(u), np.sin(v))\n",
    "y_disc = 14490 * np.outer(np.sin(u), np.sin(v))\n",
    "z_disc = 300 * np.outer(np.ones(np.size(u)), np.cos(v))\n",
    "\n",
    "\n",
    "i=4\n",
    "    \n",
    "ax9 = fig9.add_subplot(projection='3d')\n",
    "\n",
    "ax9.scatter(models[i][:, 1, -1], models[i][:, 2, -1], models[i][:, 3, -1], c='b', s=1, alpha=0.1)\n",
    "\n",
    "ax9.set_title(titles[i], y=0.8)\n",
    "ax9.set_xlabel('x [pc]', labelpad=15)\n",
    "ax9.set_ylabel('y [pc]', labelpad=15)\n",
    "ax9.set_zlabel('z [pc]', labelpad=5)\n",
    "    \n",
    "ax9.set_xlim(xmin=min_lim, xmax=max_lim)\n",
    "ax9.set_ylim(ymin=min_lim, ymax=max_lim)\n",
    "ax9.set_zlim(zmin=min_lim, zmax=max_lim)\n",
    "ax9.plot_surface(x_bulge, y_bulge, z_bulge, color='grey', alpha=0.5)\n",
    "ax9.plot_surface(x_disc, y_disc, z_disc, color='grey', alpha=0.5)\n",
    "\n",
    "ax9.xaxis.set_major_formatter(ScalarFormatter(useMathText=True))\n",
    "ax9.xaxis.get_major_formatter().set_powerlimits((0, 0))\n",
    "ax9.yaxis.set_major_formatter(ScalarFormatter(useMathText=True))\n",
    "ax9.yaxis.get_major_formatter().set_powerlimits((0, 0))\n",
    "ax9.zaxis.set_major_formatter(ScalarFormatter(useMathText=True))\n",
    "ax9.zaxis.get_major_formatter().set_powerlimits((0, 0))\n",
    "    \n",
    "ax9.view_init(4, 45)\n",
    "\n",
    "ax9.dist=12 # Increases figure limits\n",
    "\n",
    "\n",
    "#plt.tight_layout()\n",
    "#plt.subplots_adjust(right=1.2)\n",
    "plt.savefig('./Plots/Low_mass_run_last_snapshot.png', bbox_inches='tight')\n",
    "plt.show()"
   ]
  },
  {
   "cell_type": "markdown",
   "id": "95f5f17e",
   "metadata": {},
   "source": [
    "## Compare stream shapes"
   ]
  },
  {
   "cell_type": "markdown",
   "id": "734fadcd",
   "metadata": {},
   "source": [
    "### Variance (I think)"
   ]
  },
  {
   "cell_type": "code",
   "execution_count": null,
   "id": "d0753706",
   "metadata": {},
   "outputs": [],
   "source": [
    "#print(fid_variance, lr_variance, sr_variance, hm_variance, lm_variance)"
   ]
  },
  {
   "cell_type": "markdown",
   "id": "181bdd6e",
   "metadata": {},
   "source": [
    "### Velocity dispersion"
   ]
  },
  {
   "cell_type": "code",
   "execution_count": null,
   "id": "029afe39",
   "metadata": {},
   "outputs": [],
   "source": [
    "fid_vel = np.sqrt(np.sum(fid_mod_data[:, 4:7, 0]**2, axis=1))\n",
    "lr_vel = np.sqrt(np.sum(long_rad_mod_data[:, 4:7, 0]**2, axis=1))\n",
    "sr_vel = np.sqrt(np.sum(short_rad_mod_data[:, 4:7, 0]**2, axis=1))\n",
    "hm_vel = np.sqrt(np.sum(high_mass_mod_data[:, 4:7, 0]**2, axis=1))\n",
    "lm_vel = np.sqrt(np.sum(low_mass_mod_data[:, 4:7, 0]**2, axis=1))\n",
    "\n",
    "fid_vel_disp = np.std(fid_vel)\n",
    "lr_vel_disp = np.std(lr_vel)\n",
    "sr_vel_disp = np.std(sr_vel)\n",
    "hm_vel_disp = np.std(hm_vel)\n",
    "lm_vel_disp = np.std(lm_vel)\n",
    "\n",
    "print(f'Heavy, and longest: {hm_vel_disp:.3}')\n",
    "print(f'Compact, and 2nd longest: {sr_vel_disp:.3}')\n",
    "print(f'Fiducial, and median length: {fid_vel_disp:.3}') \n",
    "print(f'Diffuse, and 2nd shortest: {lr_vel_disp:.3}') \n",
    "print(f'Light, and shortest: {lm_vel_disp:.3}')\n",
    "\n",
    "print()\n",
    "print(f'Heavy, and longest: {np.max(hm_vel):.3}')\n",
    "print(f'Compact, and 2nd longest: {np.max(sr_vel):.3}')\n",
    "print(f'Fiducial, and median length: {np.max(fid_vel):.3}') \n",
    "print(f'Diffuse, and 2nd shortest: {np.max(lr_vel):.3}') \n",
    "print(f'Light, and shortest: {np.max(lm_vel):.3}')"
   ]
  },
  {
   "cell_type": "code",
   "execution_count": null,
   "id": "c2690c5a",
   "metadata": {},
   "outputs": [],
   "source": []
  },
  {
   "cell_type": "markdown",
   "id": "e93f2c38",
   "metadata": {},
   "source": [
    "### Length"
   ]
  },
  {
   "cell_type": "code",
   "execution_count": null,
   "id": "00253608",
   "metadata": {},
   "outputs": [],
   "source": [
    "figc1, axc1 = plt.subplots(figsize=(10, 6))\n",
    "\n",
    "#plt.minorticks_on()\n",
    "\n",
    "x_vals = np.array([1, 2, 3, 4, 5])\n",
    "y_vals = np.array([fid_length, lr_length, sr_length, hm_length, lm_length])\n",
    "\n",
    "labels = [\"Fiducial\", \"Diffuse\", \"Compact\", \"Heavy\", \"Light\"]\n",
    "#labels = []\n",
    "\n",
    "axc1.scatter(x_vals, y_vals, s=30, c='b', zorder=10)\n",
    "\n",
    "axc1.set_title('Stream lengths')\n",
    "axc1.set_ylabel('Length [kpc]')\n",
    "\n",
    "axc1.set_xticks(x_vals, labels=labels)\n",
    "#axc1.set_xticklabels(xticklabels, minor=False)\n",
    "axc1.set_xticklabels(labels, minor=False)\n",
    "\n",
    "\n",
    "axc1.yaxis.set_major_formatter(ScalarFormatter(useMathText=True))\n",
    "axc1.yaxis.get_major_formatter().set_powerlimits((0, 0))\n",
    "\n",
    "plt.grid(which='major', zorder=-10)\n",
    "\n",
    "\n",
    "plt.savefig('./Plots/Length_comparisons.png', facecolor='w')\n",
    "plt.show()"
   ]
  },
  {
   "cell_type": "markdown",
   "id": "7c243db9",
   "metadata": {},
   "source": [
    "### Width"
   ]
  },
  {
   "cell_type": "code",
   "execution_count": null,
   "id": "32849cd9",
   "metadata": {},
   "outputs": [],
   "source": [
    "print(len(orbital_data))\n",
    "print(len(fid_width))"
   ]
  },
  {
   "cell_type": "code",
   "execution_count": null,
   "id": "4f968a5f",
   "metadata": {},
   "outputs": [],
   "source": [
    "width_high_cut = 4e2\n",
    "high_cut_mask = orbital_data[:, -1]>=width_high_cut\n",
    "width_low_cut = 3e2\n",
    "low_cut_mask = orbital_data[:, -1]<=width_low_cut\n",
    "\n",
    "fid_leading_width = fid_width[high_cut_mask]\n",
    "lr_leading_width = lr_width[high_cut_mask]\n",
    "sr_leading_width = sr_width[high_cut_mask]\n",
    "hm_leading_width = hm_width[high_cut_mask]\n",
    "lm_leading_width = lm_width[high_cut_mask]\n",
    "orbital_leading = orbital_data[high_cut_mask, :]\n",
    "print(np.shape(orbital_data))\n",
    "print(np.shape(orbital_leading))\n",
    "print(np.shape(fid_leading_width))\n",
    "\n",
    "\n",
    "fid_trailing_width = fid_width[low_cut_mask]\n",
    "lr_trailing_width = lr_width[low_cut_mask]\n",
    "sr_trailing_width = sr_width[low_cut_mask]\n",
    "hm_trailing_width = hm_width[low_cut_mask]\n",
    "lm_trailing_width = lm_width[low_cut_mask]\n",
    "orbital_trailing = orbital_data[low_cut_mask, :]"
   ]
  },
  {
   "cell_type": "code",
   "execution_count": null,
   "id": "4c491cd9",
   "metadata": {},
   "outputs": [],
   "source": []
  },
  {
   "cell_type": "code",
   "execution_count": null,
   "id": "6aa95701",
   "metadata": {},
   "outputs": [],
   "source": [
    "figc21, axc21 = plt.subplots(1, 2, figsize=(15, 7))\n",
    "\n",
    "axc21[0].scatter(orbital_trailing[:, -1], fid_trailing_width, c='b', s=10, alpha=0.5, label='Fiducial', zorder=10)\n",
    "axc21[0].scatter(orbital_trailing[:, -1], lr_trailing_width, c='darkviolet', s=10, alpha=0.5, label='Diffuse', zorder=15)\n",
    "axc21[0].scatter(orbital_trailing[:, -1], sr_trailing_width, c='deeppink', s=10, alpha=0.5, label='Compact', zorder=5)\n",
    "axc21[0].scatter(orbital_trailing[:, -1], hm_trailing_width, c='darkgreen', s=10, alpha=0.5, label='Heavy', zorder=0)\n",
    "axc21[0].scatter(orbital_trailing[:, -1], lm_trailing_width, c='lime', s=10, alpha=0.5, label='Light', zorder=20)\n",
    "\n",
    "\n",
    "axc21[0].set_title('Width along trailing tail')\n",
    "axc21[0].set_xlabel('Distance in stream [kpc]')\n",
    "axc21[0].set_ylabel('Width [kpc]')\n",
    "\n",
    "axc21[0].xaxis.set_major_formatter(ScalarFormatter(useMathText=True))\n",
    "axc21[0].xaxis.get_major_formatter().set_powerlimits((0, 0))\n",
    "axc21[0].yaxis.set_major_formatter(ScalarFormatter(useMathText=True))\n",
    "axc21[0].yaxis.get_major_formatter().set_powerlimits((0, 0))\n",
    "\n",
    "axc21[0].set_ylim(ymin=0, ymax=0.2e2)\n",
    "\n",
    "\n",
    "lgnd = axc21[0].legend()\n",
    "lgnd.legendHandles[0]._sizes=[30]\n",
    "lgnd.legendHandles[1]._sizes=[30]\n",
    "lgnd.legendHandles[2]._sizes=[30]\n",
    "lgnd.legendHandles[3]._sizes=[30]\n",
    "lgnd.legendHandles[4]._sizes=[30]\n",
    "lgnd.legendHandles[0].set_alpha(1)\n",
    "lgnd.legendHandles[1].set_alpha(1)\n",
    "lgnd.legendHandles[2].set_alpha(1)\n",
    "lgnd.legendHandles[3].set_alpha(1)\n",
    "lgnd.legendHandles[4].set_alpha(1)\n",
    "\n",
    "\n",
    "\n",
    "\n",
    "\n",
    "\n",
    "axc21[1].scatter(orbital_leading[:, -1], fid_leading_width, c='b', s=10, alpha=0.5, label='Fiducial', zorder=10)\n",
    "axc21[1].scatter(orbital_leading[:, -1], lr_leading_width, c='darkviolet', s=10, alpha=0.5, label='Diffuse', zorder=15)\n",
    "axc21[1].scatter(orbital_leading[:, -1], sr_leading_width, c='deeppink', s=10, alpha=0.5, label='Compact', zorder=5)\n",
    "axc21[1].scatter(orbital_leading[:, -1], hm_leading_width, c='darkgreen', s=10, alpha=0.5, label='Heavy', zorder=0)\n",
    "axc21[1].scatter(orbital_leading[:, -1], lm_leading_width, c='lime', s=10, alpha=0.5, label='Light', zorder=20)\n",
    "\n",
    "\n",
    "axc21[1].set_title('Width along leading tail')\n",
    "axc21[1].set_xlabel('Distance in stream [kpc]')\n",
    "axc21[1].set_ylabel('Width [kpc]')\n",
    "\n",
    "axc21[1].xaxis.set_major_formatter(ScalarFormatter(useMathText=True))\n",
    "axc21[1].xaxis.get_major_formatter().set_powerlimits((0, 0))\n",
    "axc21[1].yaxis.set_major_formatter(ScalarFormatter(useMathText=True))\n",
    "axc21[1].yaxis.get_major_formatter().set_powerlimits((0, 0))\n",
    "\n",
    "axc21[1].set_ylim(ymin=0, ymax=0.2e2)\n",
    "\n",
    "\n",
    "lgnd = axc21[1].legend()\n",
    "lgnd.legendHandles[0]._sizes=[30]\n",
    "lgnd.legendHandles[1]._sizes=[30]\n",
    "lgnd.legendHandles[2]._sizes=[30]\n",
    "lgnd.legendHandles[3]._sizes=[30]\n",
    "lgnd.legendHandles[4]._sizes=[30]\n",
    "lgnd.legendHandles[0].set_alpha(1)\n",
    "lgnd.legendHandles[1].set_alpha(1)\n",
    "lgnd.legendHandles[2].set_alpha(1)\n",
    "lgnd.legendHandles[3].set_alpha(1)\n",
    "lgnd.legendHandles[4].set_alpha(1)\n",
    "\n",
    "\n",
    "plt.tight_layout()\n",
    "#plt.savefig('./Plots/Width_along_stream_comparison.png', facecolor='w')\n",
    "#plt.savefig('./Plots/Width_along_stream_hmlm_comparison.png', facecolor='w')\n",
    "#plt.savefig('./Plots/Width_along_stream_fidhmlm_comparison.png', facecolor='w')\n",
    "#plt.savefig('./Plots/Width_along_stream_fidlrsr_comparison.png', facecolor='w')\n",
    "plt.show()"
   ]
  },
  {
   "cell_type": "code",
   "execution_count": null,
   "id": "c040dc46",
   "metadata": {},
   "outputs": [],
   "source": [
    "nbins=10\n",
    "#stream_prop, stream_data, comp_prop, comp_data, orbit_data, n_bins\n",
    "leading_diff_fid_lr = binned_relative_difference(lr_leading_width, lr_mod_data, fid_leading_width, \n",
    "                                                 fid_mod_data, orbital_leading, nbins)\n",
    "leading_diff_fid_sr = binned_relative_difference(sr_leading_width, sr_mod_data, fid_leading_width, \n",
    "                                                 fid_mod_data, orbital_leading, nbins)\n",
    "leading_diff_fid_hm = binned_relative_difference(hm_leading_width, hm_mod_data, fid_leading_width, \n",
    "                                                 fid_mod_data, orbital_leading, nbins)\n",
    "leading_diff_fid_lm = binned_relative_difference(lm_leading_width, lm_mod_data, fid_leading_width, \n",
    "                                                 fid_mod_data, orbital_leading, nbins)\n",
    "\n",
    "leading_diff_lr_sr = binned_relative_difference(sr_leading_width, sr_mod_data, lr_leading_width, \n",
    "                                                lr_mod_data, orbital_leading, nbins)\n",
    "leading_diff_hm_lm = binned_relative_difference(lm_leading_width, lm_mod_data, hm_leading_width, \n",
    "                                                hm_mod_data, orbital_leading, nbins)\n",
    "\n",
    "\n",
    "\n",
    "trailing_diff_fid_lr = binned_relative_difference(lr_trailing_width, lr_mod_data, fid_trailing_width, \n",
    "                                                  fid_mod_data, orbital_trailing, nbins)\n",
    "trailing_diff_fid_sr = binned_relative_difference(sr_trailing_width, sr_mod_data, fid_trailing_width, \n",
    "                                                  fid_mod_data, orbital_trailing, nbins)\n",
    "trailing_diff_fid_hm = binned_relative_difference(hm_trailing_width, hm_mod_data, fid_trailing_width, \n",
    "                                                  fid_mod_data, orbital_trailing, nbins)\n",
    "trailing_diff_fid_lm = binned_relative_difference(lm_trailing_width, lm_mod_data, fid_trailing_width, \n",
    "                                                  fid_mod_data, orbital_trailing, nbins)\n",
    "\n",
    "trailing_diff_lr_sr = binned_relative_difference(sr_trailing_width, sr_mod_data, lr_trailing_width, \n",
    "                                                 lr_mod_data, orbital_trailing, nbins)\n",
    "trailing_diff_hm_lm = binned_relative_difference(lm_trailing_width, lm_mod_data, hm_trailing_width, \n",
    "                                                 hm_mod_data, orbital_trailing, nbins)"
   ]
  },
  {
   "cell_type": "code",
   "execution_count": null,
   "id": "31e6a6e5",
   "metadata": {},
   "outputs": [],
   "source": [
    "figcw2, axcw2 = plt.subplots(2, 2, figsize=(20, 16))\n",
    "\n",
    "lims = 10\n",
    "\n",
    "# Comparinf Fuducial to other models\n",
    "# ------------------------------------------------------------------------------------\n",
    "axcw2[0, 0].scatter(trailing_diff_fid_lr[:, 0], trailing_diff_fid_lr[:, 1], c='darkviolet', label='Fiducial-Diffuse', s=10)\n",
    "axcw2[0, 0].scatter(trailing_diff_fid_sr[:, 0], trailing_diff_fid_sr[:, 1], c='deeppink', label='Fiducial-Compact', s=10)\n",
    "axcw2[0, 0].scatter(trailing_diff_fid_hm[:, 0], trailing_diff_fid_hm[:, 1], c='darkgreen', label='Fiducial-Heavy', s=10)\n",
    "axcw2[0, 0].scatter(trailing_diff_fid_lm[:, 0], trailing_diff_fid_lm[:, 1], c='lime', label='Fiducial-Light', s=10)\n",
    "\n",
    "\n",
    "axcw2[0, 0].errorbar(trailing_diff_fid_lr[:, 0], trailing_diff_fid_lr[:, 1], yerr=trailing_diff_fid_lr[:, 2], ecolor='darkviolet', capsize=1, \n",
    "                 linestyle='')\n",
    "axcw2[0, 0].errorbar(trailing_diff_fid_sr[:, 0], trailing_diff_fid_sr[:, 1], yerr=trailing_diff_fid_sr[:, 2], ecolor='deeppink', capsize=1, \n",
    "                 linestyle='')\n",
    "axcw2[0, 0].errorbar(trailing_diff_fid_hm[:, 0], trailing_diff_fid_hm[:, 1], yerr=trailing_diff_fid_hm[:, 2], ecolor='darkgreen', capsize=1, \n",
    "                 linestyle='')\n",
    "axcw2[0, 0].errorbar(trailing_diff_fid_lm[:, 0], trailing_diff_fid_lm[:, 1], yerr=trailing_diff_fid_lm[:, 2], ecolor='lime', capsize=1, \n",
    "                 linestyle='')\n",
    "\n",
    "\n",
    "axcw2[0, 0].set_ylim(ymin=-lims, ymax=lims)\n",
    "axcw2[0, 0].set_title('Trailing tail')\n",
    "axcw2[0, 0].set_ylabel('Relative difference')\n",
    "axcw2[0, 0].set_xlabel('Distance in stream [kpc]')\n",
    "\n",
    "axcw2[0, 0].xaxis.set_major_formatter(ScalarFormatter(useMathText=True))\n",
    "axcw2[0, 0].xaxis.get_major_formatter().set_powerlimits((0, 0))\n",
    "\n",
    "\n",
    "lgnd = axcw2[0, 0].legend()\n",
    "lgnd.legendHandles[0]._sizes=[30]\n",
    "lgnd.legendHandles[1]._sizes=[30]\n",
    "lgnd.legendHandles[2]._sizes=[30]\n",
    "lgnd.legendHandles[3]._sizes=[30]\n",
    "lgnd.legendHandles[0].set_alpha(1)\n",
    "lgnd.legendHandles[1].set_alpha(1)\n",
    "lgnd.legendHandles[2].set_alpha(1)\n",
    "lgnd.legendHandles[3].set_alpha(1)\n",
    "\n",
    "\n",
    "# Leading\n",
    "axcw2[0, 1].scatter(leading_diff_fid_lr[:, 0], leading_diff_fid_lr[:, 1], c='darkviolet', label='Fiducial-Diffuse', s=10)\n",
    "axcw2[0, 1].scatter(leading_diff_fid_sr[:, 0], leading_diff_fid_sr[:, 1], c='deeppink', label='Fiducial-Compact', s=10)\n",
    "axcw2[0, 1].scatter(leading_diff_fid_hm[:, 0], leading_diff_fid_hm[:, 1], c='darkgreen', label='Fiducial-Heavy', s=10)\n",
    "axcw2[0, 1].scatter(leading_diff_fid_lm[:, 0], leading_diff_fid_lm[:, 1], c='lime', label='Fiducial-Light', s=10)\n",
    "\n",
    "\n",
    "axcw2[0, 1].errorbar(leading_diff_fid_lr[:, 0], leading_diff_fid_lr[:, 1], yerr=leading_diff_fid_lr[:, 2], ecolor='darkviolet', capsize=1, \n",
    "                 linestyle='')\n",
    "axcw2[0, 1].errorbar(leading_diff_fid_sr[:, 0], leading_diff_fid_sr[:, 1], yerr=leading_diff_fid_sr[:, 2], ecolor='deeppink', capsize=1, \n",
    "                 linestyle='')\n",
    "axcw2[0, 1].errorbar(leading_diff_fid_hm[:, 0], leading_diff_fid_hm[:, 1], yerr=leading_diff_fid_hm[:, 2], ecolor='darkgreen', capsize=1, \n",
    "                 linestyle='')\n",
    "axcw2[0, 1].errorbar(leading_diff_fid_lm[:, 0], leading_diff_fid_lm[:, 1], yerr=leading_diff_fid_lm[:, 2], ecolor='lime', capsize=1, \n",
    "                 linestyle='')\n",
    "\n",
    "\n",
    "axcw2[0, 1].set_ylim(ymin=-lims, ymax=lims)\n",
    "axcw2[0, 0].set_title('Leading tail')\n",
    "axcw2[0, 1].set_ylabel('Relative difference')\n",
    "axcw2[0, 1].set_xlabel('Distance in stream [kpc]')\n",
    "\n",
    "axcw2[0, 1].xaxis.set_major_formatter(ScalarFormatter(useMathText=True))\n",
    "axcw2[0, 1].xaxis.get_major_formatter().set_powerlimits((0, 0))\n",
    "\n",
    "\n",
    "lgnd = axcw2[0, 1].legend()\n",
    "lgnd.legendHandles[0]._sizes=[30]\n",
    "lgnd.legendHandles[1]._sizes=[30]\n",
    "lgnd.legendHandles[2]._sizes=[30]\n",
    "lgnd.legendHandles[3]._sizes=[30]\n",
    "lgnd.legendHandles[0].set_alpha(1)\n",
    "lgnd.legendHandles[1].set_alpha(1)\n",
    "lgnd.legendHandles[2].set_alpha(1)\n",
    "lgnd.legendHandles[3].set_alpha(1)\n",
    "\n",
    "\n",
    "\n",
    "\n",
    "\n",
    "axcw2[1, 0].scatter(trailing_diff_lr_sr[:, 0], trailing_diff_lr_sr[:, 1], c='b', label='Diffuse-Compact', s=10)\n",
    "axcw2[1, 0].scatter(trailing_diff_hm_lm[:, 0], trailing_diff_hm_lm[:, 1], c='r', label='Heavy-Light', s=10)\n",
    "\n",
    "axcw2[1, 0].errorbar(trailing_diff_lr_sr[:, 0], trailing_diff_lr_sr[:, 1], yerr=trailing_diff_lr_sr[:, 2], ecolor='b', capsize=1, linestyle='')\n",
    "axcw2[1, 0].errorbar(trailing_diff_hm_lm[:, 0], trailing_diff_hm_lm[:, 1], yerr=trailing_diff_hm_lm[:, 2], ecolor='r', capsize=1, linestyle='')\n",
    "\n",
    "\n",
    "\n",
    "axcw2[1, 0].set_ylim(ymin=-lims, ymax=lims)\n",
    "axcw2[1, 0].set_title('Trailing tail')\n",
    "axcw2[1, 0].set_ylabel('Relative difference')\n",
    "axcw2[1, 0].set_xlabel('Distance in stream [kpc]')\n",
    "\n",
    "axcw2[1, 0].xaxis.set_major_formatter(ScalarFormatter(useMathText=True))\n",
    "axcw2[1, 0].xaxis.get_major_formatter().set_powerlimits((0, 0))\n",
    "\n",
    "\n",
    "lgnd = axcw2[1, 0].legend()\n",
    "lgnd.legendHandles[0]._sizes=[30]\n",
    "lgnd.legendHandles[1]._sizes=[30]\n",
    "lgnd.legendHandles[0].set_alpha(1)\n",
    "lgnd.legendHandles[1].set_alpha(1)\n",
    "\n",
    "\n",
    "\n",
    "axcw2[1, 1].scatter(leading_diff_lr_sr[:, 0], leading_diff_lr_sr[:, 1], c='b', label='Diffuse-Compact', s=10)\n",
    "axcw2[1, 1].scatter(leading_diff_hm_lm[:, 0], leading_diff_hm_lm[:, 1], c='r', label='Heavy-Light', s=10)\n",
    "\n",
    "axcw2[1, 1].errorbar(leading_diff_lr_sr[:, 0], leading_diff_lr_sr[:, 1], yerr=leading_diff_lr_sr[:, 2], ecolor='b', capsize=1, linestyle='')\n",
    "axcw2[1, 1].errorbar(leading_diff_hm_lm[:, 0], leading_diff_hm_lm[:, 1], yerr=leading_diff_hm_lm[:, 2], ecolor='r', capsize=1, linestyle='')\n",
    "\n",
    "\n",
    "\n",
    "axcw2[1, 1].set_ylim(ymin=-lims, ymax=lims)\n",
    "axcw2[1, 1].set_title('Leading tail')\n",
    "axcw2[1, 1].set_ylabel('Relative difference')\n",
    "axcw2[1, 1].set_xlabel('Distance in stream [kpc]')\n",
    "\n",
    "axcw2[1, 1].xaxis.set_major_formatter(ScalarFormatter(useMathText=True))\n",
    "axcw2[1, 1].xaxis.get_major_formatter().set_powerlimits((0, 0))\n",
    "\n",
    "\n",
    "lgnd = axcw2[1, 1].legend()\n",
    "lgnd.legendHandles[0]._sizes=[30]\n",
    "lgnd.legendHandles[1]._sizes=[30]\n",
    "lgnd.legendHandles[0].set_alpha(1)\n",
    "lgnd.legendHandles[1].set_alpha(1)\n",
    "\n",
    "figcw2.suptitle('Relative difference in stream width', fontsize=28)\n",
    "\n",
    "figcw2.dist = 12\n",
    "\n",
    "plt.tight_layout()\n",
    "#plt.subplots_adjust(hspace=0.3)\n",
    "#plt.savefig('./Plots/Relative_differences_width.png', facecolor='w', bbox_inches='tight')\n",
    "plt.show()"
   ]
  },
  {
   "cell_type": "code",
   "execution_count": null,
   "id": "60761b9d",
   "metadata": {},
   "outputs": [],
   "source": []
  },
  {
   "cell_type": "markdown",
   "id": "cfb3b2ae",
   "metadata": {},
   "source": [
    "figc2, axc2 = plt.subplots(figsize=(15, 7))\n",
    "\n",
    "axc2.scatter(orbital_data[:, -1], fid_width, c='b', s=10, alpha=0.25, label='Fiducial', zorder=10)\n",
    "axc2.scatter(orbital_data[:, -1], lr_width, c='darkviolet', s=10, alpha=0.25, label='Diffuse', zorder=15)\n",
    "axc2.scatter(orbital_data[:, -1], sr_width, c='deeppink', s=10, alpha=0.25, label='Compact', zorder=5)\n",
    "axc2.scatter(orbital_data[:, -1], hm_width, c='darkgreen', s=10, alpha=0.25, label='Heavy', zorder=0)\n",
    "axc2.scatter(orbital_data[:, -1], lm_width, c='lime', s=10, alpha=0.25, label='Light', zorder=20)\n",
    "\n",
    "\n",
    "axc2.set_title('Width along stream')\n",
    "axc2.set_xlabel('Distance in stream [kpc]')\n",
    "axc2.set_ylabel('Width [kpc]')\n",
    "\n",
    "axc2.xaxis.set_major_formatter(ScalarFormatter(useMathText=True))\n",
    "axc2.xaxis.get_major_formatter().set_powerlimits((0, 0))\n",
    "axc2.yaxis.set_major_formatter(ScalarFormatter(useMathText=True))\n",
    "axc2.yaxis.get_major_formatter().set_powerlimits((0, 0))\n",
    "\n",
    "axc2.set_ylim(ymin=0, ymax=0.4e2)\n",
    "\n",
    "\n",
    "lgnd = axc2.legend()\n",
    "lgnd.legendHandles[0]._sizes=[30]\n",
    "lgnd.legendHandles[1]._sizes=[30]\n",
    "lgnd.legendHandles[2]._sizes=[30]\n",
    "lgnd.legendHandles[3]._sizes=[30]\n",
    "lgnd.legendHandles[4]._sizes=[30]\n",
    "lgnd.legendHandles[0].set_alpha(1)\n",
    "lgnd.legendHandles[1].set_alpha(1)\n",
    "lgnd.legendHandles[2].set_alpha(1)\n",
    "lgnd.legendHandles[3].set_alpha(1)\n",
    "lgnd.legendHandles[4].set_alpha(1)\n",
    "\n",
    "#plt.savefig('./Plots/Width_along_stream_comparison.png', facecolor='w')\n",
    "#plt.savefig('./Plots/Width_along_stream_hmlm_comparison.png', facecolor='w')\n",
    "#plt.savefig('./Plots/Width_along_stream_fidhmlm_comparison.png', facecolor='w')\n",
    "#plt.savefig('./Plots/Width_along_stream_fidlrsr_comparison.png', facecolor='w')\n",
    "plt.show()"
   ]
  },
  {
   "cell_type": "markdown",
   "id": "20fb80a2",
   "metadata": {},
   "source": [
    "def binned_relative_difference(stream_prop, comp_prop, orbit_data, n_bins):\n",
    "    # stream_prop, stream_data, comp_prop, comp_data, orbit_data, n_bins (old)\n",
    "    min_stream_length = np.min(orbit_data[:, -1])\n",
    "    max_stream_length = np.max(orbit_data[:, -1])\n",
    "    \n",
    "    # arange for setting bin width instead of number of bins\n",
    "    bin_edges = np.linspace(min_stream_length, max_stream_length, n_bins)\n",
    "    \n",
    "    bin_edges_rolled = np.roll(bin_edges, 1)\n",
    "    bin_edges_rolled_corr = np.delete(bin_edges_rolled, 0)\n",
    "    bin_edges_corr = np.delete(bin_edges, 0)\n",
    "    bin_positions = (bin_edges_rolled_corr + bin_edges_corr)/2\n",
    "    \n",
    "    relative_difference = []\n",
    "    standard_dev = []\n",
    "    \n",
    "    for i in range(1, len(bin_edges)):\n",
    "        #bin_mask_stream = (bin_edges[i-1]<=stream_data[:, -2])&(stream_data[:, -2]<bin_edges[i])\n",
    "        bin_mask_comp = (bin_edges[i-1]<=orbit_data[:, -1])&(orbit_data[:, -1]<bin_edges[i])\n",
    "        \n",
    "        property_stream = stream_prop[bin_mask_comp]\n",
    "        property_comp = comp_prop[bin_mask_comp]\n",
    "        \n",
    "        mean_prop_stream = np.median(property_stream)\n",
    "        mean_prop_comp = np.median(property_comp)\n",
    "        \n",
    "        rel_diff_mean = np.abs((mean_prop_comp - mean_prop_stream)/(mean_prop_comp))\n",
    "        relative_difference.append(rel_diff_mean)\n",
    "        \n",
    "        rel_diff = np.abs((property_comp - property_stream)/(property_comp))\n",
    "        rel_diff[np.isnan(rel_diff)] = 0\n",
    "        rel_diff[np.isinf(rel_diff)] = 0\n",
    "        \n",
    "        std = np.std(rel_diff)\n",
    "        standard_dev.append(std)\n",
    "        \n",
    "        \n",
    "    \n",
    "    relative_difference = np.array(relative_difference)\n",
    "    relative_difference[np.isnan(relative_difference)] = 0\n",
    "    relative_difference[np.isinf(relative_difference)] = np.max(relative_difference)\n",
    "    \n",
    "    standard_dev = np.array(standard_dev)\n",
    "    \n",
    "    result = np.concatenate([bin_positions[:, np.newaxis], relative_difference[:, np.newaxis], \n",
    "                             standard_dev[:, np.newaxis]], axis=1)\n",
    "    \n",
    "    return result #bin_positions, relative_difference"
   ]
  },
  {
   "cell_type": "markdown",
   "id": "cd986927",
   "metadata": {},
   "source": [
    "nbins=25\n",
    "\n",
    "diff_fid_lr = binned_relative_difference(lr_width, fid_width, orbital_data, nbins)\n",
    "# lr_width, lr_aligned2, fid_width, fid_aligned2, orbital_data, nbins\n",
    "diff_fid_sr = binned_relative_difference(sr_width, fid_width, orbital_data, nbins)\n",
    "\n",
    "diff_fid_hm = binned_relative_difference(hm_width, fid_width, orbital_data, nbins)\n",
    "\n",
    "diff_fid_lm = binned_relative_difference(lm_width, fid_width, orbital_data, nbins)\n",
    "\n",
    "\n",
    "\n",
    "diff_lr_sr = binned_relative_difference(sr_width, lr_width, orbital_data, nbins)\n",
    "\n",
    "diff_hm_lm = binned_relative_difference(lm_width, hm_width, orbital_data, nbins)"
   ]
  },
  {
   "cell_type": "markdown",
   "id": "b89109f2",
   "metadata": {},
   "source": [
    "print(diff_fid_hm[:, 2])"
   ]
  },
  {
   "cell_type": "markdown",
   "id": "b0c9d2e2",
   "metadata": {},
   "source": [
    "figc22, axc22 = plt.subplots(2, 1, figsize=(15, 12))\n",
    "\n",
    "# Line plot\n",
    "# ----------------------------------------------------------------------------------\n",
    "#axc22[0].plot(bin_pos, diff_fid_lr, color='darkgreen', label='Fiducial-Diffuse')\n",
    "#axc22[0].plot(bin_pos, diff_fid_sr, color='lime', label='Fiducial-Compact')\n",
    "#axc22[0].plot(bin_pos, diff_fid_hm, color='crimson', label='Fiducial-Heavy')\n",
    "#axc22[0].plot(bin_pos, diff_fid_lm, color='orange', label='Fiducial-Light')\n",
    "\n",
    "# Scatter plot with old function\n",
    "# ------------------------------------------------------------------------------------\n",
    "#axc22[0].scatter(bin_pos, diff_fid_lr, c='darkgreen', label='Fid-Lr', s=10)\n",
    "#axc22[0].scatter(bin_pos, diff_fid_sr, c='lime', label='Fid-Sr', s=10)\n",
    "#axc22[0].scatter(bin_pos, diff_fid_hm, c='crimson', label='Fid-Hm', s=10)\n",
    "#axc22[0].scatter(bin_pos, diff_fid_lm, c='orange', label='Fid-Lm', s=10)\n",
    "\n",
    "\n",
    "# Scatter plot with errorbars\n",
    "# ------------------------------------------------------------------------------------\n",
    "axc22[0].scatter(diff_fid_lr[:, 0], diff_fid_lr[:, 1], c='darkviolet', label='Fiducial-Diffuse', s=10)\n",
    "axc22[0].scatter(diff_fid_sr[:, 0], diff_fid_sr[:, 1], c='deeppink', label='Fiducial-Compact', s=10)\n",
    "axc22[0].scatter(diff_fid_hm[:, 0], diff_fid_hm[:, 1], c='darkgreen', label='Fiducial-Heavy', s=10)\n",
    "axc22[0].scatter(diff_fid_lm[:, 0], diff_fid_lm[:, 1], c='lime', label='Fiducial-Light', s=10)\n",
    "\n",
    "\n",
    "axc22[0].errorbar(diff_fid_lr[:, 0], diff_fid_lr[:, 1], yerr=diff_fid_lr[:, 2], ecolor='darkviolet', capsize=1, \n",
    "                 linestyle='')\n",
    "axc22[0].errorbar(diff_fid_sr[:, 0], diff_fid_sr[:, 1], yerr=diff_fid_sr[:, 2], ecolor='deeppink', capsize=1, \n",
    "                 linestyle='')\n",
    "axc22[0].errorbar(diff_fid_hm[:, 0], diff_fid_hm[:, 1], yerr=diff_fid_hm[:, 2], ecolor='darkgreen', capsize=1, \n",
    "                 linestyle='')\n",
    "axc22[0].errorbar(diff_fid_lm[:, 0], diff_fid_lm[:, 1], yerr=diff_fid_lm[:, 2], ecolor='lime', capsize=1, \n",
    "                 linestyle='')\n",
    "\n",
    "\n",
    "\n",
    "axc22[0].set_ylim(ymin=-7, ymax=7)\n",
    "axc22[0].set_ylabel('Relative difference')\n",
    "axc22[0].set_xlabel('Distance in stream [kpc]')\n",
    "\n",
    "axc22[0].xaxis.set_major_formatter(ScalarFormatter(useMathText=True))\n",
    "axc22[0].xaxis.get_major_formatter().set_powerlimits((0, 0))\n",
    "\n",
    "\n",
    "lgnd = axc22[0].legend()\n",
    "lgnd.legendHandles[0]._sizes=[30]\n",
    "lgnd.legendHandles[1]._sizes=[30]\n",
    "lgnd.legendHandles[2]._sizes=[30]\n",
    "lgnd.legendHandles[3]._sizes=[30]\n",
    "lgnd.legendHandles[0].set_alpha(1)\n",
    "lgnd.legendHandles[1].set_alpha(1)\n",
    "lgnd.legendHandles[2].set_alpha(1)\n",
    "lgnd.legendHandles[3].set_alpha(1)\n",
    "\n",
    "\n",
    "\n",
    "#axc22[1].plot(bin_pos, diff_lr_sr, color='b', label='Diffuse-Compact')\n",
    "#axc22[1].plot(bin_pos, diff_hm_lm, color='r', label='Heavy-Light')\n",
    "\n",
    "#axc22[1].scatter(bin_pos, diff_lr_sr, c='b', label='Lr-Sr', s=10)\n",
    "#axc22[1].scatter(bin_pos, diff_hm_lm, c='r', label='Hm-Lm', s=10)\n",
    "\n",
    "axc22[1].scatter(diff_lr_sr[:, 0], diff_lr_sr[:, 1], c='b', label='Diffuse-Compact', s=10)\n",
    "axc22[1].scatter(diff_hm_lm[:, 0], diff_hm_lm[:, 1], c='r', label='Heavy-Light', s=10)\n",
    "\n",
    "axc22[1].errorbar(diff_lr_sr[:, 0], diff_lr_sr[:, 1], yerr=diff_lr_sr[:, 2], ecolor='b', capsize=1, linestyle='')\n",
    "axc22[1].errorbar(diff_hm_lm[:, 0], diff_hm_lm[:, 1], yerr=diff_hm_lm[:, 2], ecolor='r', capsize=1, linestyle='')\n",
    "\n",
    "\n",
    "\n",
    "axc22[1].set_ylim(ymin=-7, ymax=7)\n",
    "axc22[1].set_ylabel('Relative difference')\n",
    "axc22[1].set_xlabel('Distance in stream [kpc]')\n",
    "\n",
    "axc22[1].xaxis.set_major_formatter(ScalarFormatter(useMathText=True))\n",
    "axc22[1].xaxis.get_major_formatter().set_powerlimits((0, 0))\n",
    "\n",
    "\n",
    "lgnd = axc22[1].legend()\n",
    "lgnd.legendHandles[0]._sizes=[30]\n",
    "lgnd.legendHandles[1]._sizes=[30]\n",
    "lgnd.legendHandles[0].set_alpha(1)\n",
    "lgnd.legendHandles[1].set_alpha(1)\n",
    "\n",
    "figc22.suptitle('Relative difference in stream width', fontsize=28)\n",
    "\n",
    "figc22.dist = 12\n",
    "\n",
    "plt.tight_layout()\n",
    "plt.subplots_adjust(hspace=0.3)\n",
    "plt.savefig('./Plots/Relative_differences_width.png', facecolor='w', bbox_inches='tight')\n",
    "plt.show()"
   ]
  },
  {
   "cell_type": "markdown",
   "id": "4b5d0703",
   "metadata": {},
   "source": [
    "### Particle density"
   ]
  },
  {
   "cell_type": "code",
   "execution_count": null,
   "id": "1612f753",
   "metadata": {},
   "outputs": [],
   "source": [
    "figc3, axc3 = plt.subplots(figsize=(15, 7))\n",
    "\n",
    "axc3.scatter(orbital_data[:, -1], fid_part_dens, c='b', s=10, alpha=0.25, label='Fiducial')\n",
    "axc3.scatter(orbital_data[:, -1], lr_part_dens, c='darkviolet', s=10, alpha=0.25, label='Diffuse')\n",
    "axc3.scatter(orbital_data[:, -1], sr_part_dens, c='deeppink', s=10, alpha=0.25, label='Compact')\n",
    "axc3.scatter(orbital_data[:, -1], hm_part_dens, c='darkgreen', s=10, alpha=0.25, label='Heavy')\n",
    "axc3.scatter(orbital_data[:, -1], lm_part_dens, c='lime', s=10, alpha=0.25, label='Light')\n",
    "\n",
    "\n",
    "axc3.set_title('Particle distribution along stream')\n",
    "axc3.set_xlabel('Distance in stream [kpc]')\n",
    "axc3.set_ylabel('Particle count')\n",
    "\n",
    "axc3.xaxis.set_major_formatter(ScalarFormatter(useMathText=True))\n",
    "axc3.xaxis.get_major_formatter().set_powerlimits((0, 0))\n",
    "axc3.yaxis.set_major_formatter(ScalarFormatter(useMathText=True))\n",
    "axc3.yaxis.get_major_formatter().set_powerlimits((0, 0))\n",
    "\n",
    "axc3.set_ylim(ymin=0, ymax=0.5e3)\n",
    "\n",
    "\n",
    "lgnd = axc3.legend()\n",
    "lgnd.legendHandles[0]._sizes=[30]\n",
    "lgnd.legendHandles[1]._sizes=[30]\n",
    "lgnd.legendHandles[2]._sizes=[30]\n",
    "lgnd.legendHandles[3]._sizes=[30]\n",
    "lgnd.legendHandles[4]._sizes=[30]\n",
    "lgnd.legendHandles[0].set_alpha(1)\n",
    "lgnd.legendHandles[1].set_alpha(1)\n",
    "lgnd.legendHandles[2].set_alpha(1)\n",
    "lgnd.legendHandles[3].set_alpha(1)\n",
    "lgnd.legendHandles[4].set_alpha(1)\n",
    "\n",
    "\n",
    "#plt.savefig('./Plots/Particle_density_along_stream_comparison.png', facecolor='w')\n",
    "#plt.savefig('./Plots/Particle_density_along_stream_fidlrlm_comparison.png', facecolor='w')\n",
    "#plt.savefig('./Plots/Particle_density_along_stream_fidsrhm_comparison.png', facecolor='w')\n",
    "plt.show()"
   ]
  },
  {
   "cell_type": "code",
   "execution_count": null,
   "id": "4a9c0b17",
   "metadata": {},
   "outputs": [],
   "source": [
    "nbins = 25\n",
    "\n",
    "diff_part_dens_fid_lr = binned_relative_difference(lr_part_dens, lr_mod_data, fid_part_dens, fid_mod_data, \n",
    "                                                   orbital_data, nbins)\n",
    "\n",
    "diff_part_dens_fid_sr = binned_relative_difference(sr_part_dens, sr_mod_data, fid_part_dens, fid_mod_data, \n",
    "                                                   orbital_data, nbins)\n",
    "\n",
    "diff_part_dens_fid_hm = binned_relative_difference(hm_width, hm_mod_data, fid_part_dens, fid_mod_data, \n",
    "                                                   orbital_data, nbins)\n",
    "\n",
    "diff_part_dens_fid_lm = binned_relative_difference(lm_part_dens, lm_mod_data, fid_part_dens, fid_mod_data, \n",
    "                                                   orbital_data, nbins)\n",
    "\n",
    "\n",
    "\n",
    "diff_part_dens_lr_sr = binned_relative_difference(sr_part_dens, sr_mod_data, lr_part_dens, lr_mod_data, \n",
    "                                                  orbital_data, nbins)\n",
    "\n",
    "diff_part_dens_hm_lm = binned_relative_difference(lm_part_dens, lm_mod_data, hm_part_dens, hm_mod_data, \n",
    "                                                  orbital_data, nbins)\n",
    "\n"
   ]
  },
  {
   "cell_type": "code",
   "execution_count": null,
   "id": "d8d8d8ae",
   "metadata": {},
   "outputs": [],
   "source": [
    "figc32, axc32 = plt.subplots(2, 1, figsize=(15, 12))\n",
    "\n",
    "axc32[0].scatter(diff_part_dens_fid_lr[:, 0], diff_part_dens_fid_lr[:, 1], c='darkviolet', \n",
    "                 label='Fiducial-Diffuse', s=10)\n",
    "axc32[0].scatter(diff_part_dens_fid_sr[:, 0], diff_part_dens_fid_sr[:, 1], c='deeppink', \n",
    "                 label='Fiducial-Compact', s=10)\n",
    "axc32[0].scatter(diff_part_dens_fid_hm[:, 0], diff_part_dens_fid_hm[:, 1], c='darkgreen', \n",
    "                 label='Fiducial-Heavy', s=10)\n",
    "axc32[0].scatter(diff_part_dens_fid_lm[:, 0], diff_part_dens_fid_lm[:, 1], c='lime', \n",
    "                 label='Fiducial-Light', s=10)\n",
    "\n",
    "\n",
    "axc32[0].errorbar(diff_part_dens_fid_lr[:, 0], diff_part_dens_fid_lr[:, 1], yerr=diff_part_dens_fid_lr[:, 2], \n",
    "                  ecolor='darkviolet', capsize=1, linestyle='')\n",
    "axc32[0].errorbar(diff_part_dens_fid_sr[:, 0], diff_part_dens_fid_sr[:, 1], yerr=diff_part_dens_fid_sr[:, 2], \n",
    "                  ecolor='deeppink', capsize=1, linestyle='')\n",
    "axc32[0].errorbar(diff_part_dens_fid_hm[:, 0], diff_part_dens_fid_hm[:, 1], yerr=diff_part_dens_fid_hm[:, 2], \n",
    "                  ecolor='darkgreen', capsize=1, linestyle='')\n",
    "axc32[0].errorbar(diff_part_dens_fid_lm[:, 0], diff_part_dens_fid_lm[:, 1], yerr=diff_part_dens_fid_lm[:, 2], \n",
    "                  ecolor='lime', capsize=1, linestyle='')\n",
    "\n",
    "\n",
    "#axc32[0].plot(bin_pos, diff_part_dens_fid_lr, color='darkgreen', label='Fiducial-Diffuse')\n",
    "#axc32[0].plot(bin_pos, diff_part_dens_fid_sr, color='lime', label='Fiducial-Compact')\n",
    "#axc32[0].plot(bin_pos, diff_part_dens_fid_hm, color='crimson', label='Fiducial-Heavy')\n",
    "#axc32[0].plot(bin_pos, diff_part_dens_fid_lm, color='orange', label='Fiducial-Light')\n",
    "\n",
    "\n",
    "axc32[0].set_ylim(ymin=-5, ymax=5)\n",
    "axc32[0].set_ylabel('Relative difference')\n",
    "axc32[0].set_xlabel('Distance in stream [kpc]')\n",
    "\n",
    "axc32[0].xaxis.set_major_formatter(ScalarFormatter(useMathText=True))\n",
    "axc32[0].xaxis.get_major_formatter().set_powerlimits((0, 0))\n",
    "\n",
    "\n",
    "lgnd = axc32[0].legend()\n",
    "lgnd.legendHandles[0]._sizes=[30]\n",
    "lgnd.legendHandles[1]._sizes=[30]\n",
    "lgnd.legendHandles[2]._sizes=[30]\n",
    "lgnd.legendHandles[3]._sizes=[30]\n",
    "lgnd.legendHandles[0].set_alpha(1)\n",
    "lgnd.legendHandles[1].set_alpha(1)\n",
    "lgnd.legendHandles[2].set_alpha(1)\n",
    "lgnd.legendHandles[3].set_alpha(1)\n",
    "\n",
    "\n",
    "\n",
    "axc32[1].scatter(diff_part_dens_lr_sr[:, 0], diff_part_dens_lr_sr[:, 1], c='b', label='Diffuse-Compact', s=10)\n",
    "axc32[1].scatter(diff_part_dens_hm_lm[:, 0], diff_part_dens_hm_lm[:, 1], c='r', label='Heavy-Light', s=10)\n",
    "\n",
    "\n",
    "axc32[1].errorbar(diff_part_dens_lr_sr[:, 0], diff_part_dens_lr_sr[:, 1], yerr=diff_part_dens_lr_sr[:, 2], \n",
    "                  ecolor='b', capsize=1, linestyle='')\n",
    "axc32[1].errorbar(diff_part_dens_hm_lm[:, 0], diff_part_dens_hm_lm[:, 1], yerr=diff_part_dens_hm_lm[:, 2], \n",
    "                  ecolor='r', capsize=1, linestyle='')\n",
    "\n",
    "#axc32[1].plot(bin_pos, diff_part_dens_lr_sr, color='b', label='Diffuse-Compact')\n",
    "#axc32[1].plot(bin_pos, diff_part_dens_hm_lm, color='r', label='Heavy-Light')\n",
    "\n",
    "axc32[1].set_ylim(ymin=-2, ymax=2)\n",
    "axc32[1].set_ylabel('Relative difference')\n",
    "axc32[1].set_xlabel('Distance in stream [kpc]')\n",
    "#axc32[1].set_title('Relative difference in particle density')\n",
    "\n",
    "axc32[1].xaxis.set_major_formatter(ScalarFormatter(useMathText=True))\n",
    "axc32[1].xaxis.get_major_formatter().set_powerlimits((0, 0))\n",
    "\n",
    "lgnd = axc32[1].legend()\n",
    "lgnd.legendHandles[0]._sizes=[30]\n",
    "lgnd.legendHandles[1]._sizes=[30]\n",
    "lgnd.legendHandles[0].set_alpha(1)\n",
    "lgnd.legendHandles[1].set_alpha(1)\n",
    "\n",
    "figc32.suptitle('Relative difference in particle distribution', fontsize=28)\n",
    "\n",
    "\n",
    "\n",
    "plt.tight_layout()\n",
    "plt.subplots_adjust(hspace=0.3)\n",
    "plt.savefig('./Plots/Relative_differences_particle_density.png', facecolor='w', bbox_inches='tight')\n",
    "plt.show()"
   ]
  },
  {
   "cell_type": "code",
   "execution_count": null,
   "id": "2a96d9c3",
   "metadata": {},
   "outputs": [],
   "source": []
  },
  {
   "cell_type": "code",
   "execution_count": null,
   "id": "668c715f",
   "metadata": {},
   "outputs": [],
   "source": []
  },
  {
   "cell_type": "markdown",
   "id": "5e8e0840",
   "metadata": {},
   "source": [
    "### Comparing other stream shape properties"
   ]
  },
  {
   "cell_type": "code",
   "execution_count": null,
   "id": "099acbb5",
   "metadata": {},
   "outputs": [],
   "source": [
    "def stream_pop_separations(orbit_data, stream_data, width_data, part_dens_data):\n",
    "    \n",
    "    # Masks\n",
    "    stars1_mask = stream_data[:, -2]<=3.47e2\n",
    "    stars2_mask = (stream_data[:, -2]>3.47e2)&(stream_data[:, -2]<=3.55e2)\n",
    "    stars3_mask = stream_data[:, -2]>3.55e2\n",
    "    \n",
    "    orbit1_mask = orbit_data[:, -1]<=3.47e2\n",
    "    orbit2_mask = (orbit_data[:, -1]>3.47e2)&(orbit_data[:, -1]<=3.55e2)\n",
    "    orbit3_mask = orbit_data[:, -1]>3.55e2\n",
    "\n",
    "    \n",
    "    \n",
    "    \n",
    "    # Dividing data\n",
    "    stream_data1 = stream_data[stars1_mask, :]\n",
    "    stream_data2 = stream_data[stars2_mask, :]\n",
    "    stream_data3 = stream_data[stars3_mask, :]\n",
    "    stream_data_tot = [stream_data1, stream_data2, stream_data3]\n",
    "    \n",
    "    orbit_data1 = orbit_data[orbit1_mask, -1]\n",
    "    orbit_data2 = orbit_data[orbit2_mask, -1]\n",
    "    orbit_data3 = orbit_data[orbit3_mask, -1]\n",
    "    orbit_data_tot = [orbit_data1, orbit_data2, orbit_data3]\n",
    "    \n",
    "\n",
    "    width_data1 = width_data[orbit1_mask]\n",
    "    width_data2 = width_data[orbit2_mask]\n",
    "    width_data3 = width_data[orbit3_mask]\n",
    "    width_data_tot = [width_data1, width_data2, width_data3]\n",
    "\n",
    "    part_dens_data1 = part_dens_data[orbit1_mask]\n",
    "    part_dens_data2 = part_dens_data[orbit2_mask]\n",
    "    part_dens_data3 = part_dens_data[orbit3_mask]\n",
    "    part_dens_data_tot = [part_dens_data1, part_dens_data2, part_dens_data3]\n",
    "    \n",
    "    return stream_data_tot, orbit_data_tot, width_data_tot, part_dens_data_tot"
   ]
  },
  {
   "cell_type": "code",
   "execution_count": null,
   "id": "b6a9569d",
   "metadata": {},
   "outputs": [],
   "source": [
    "lr_stream_tot, orbit_tot, lr_width_tot, lr_part_dens_tot = stream_pop_separations(orbital_data, lr_aligned2, \n",
    "                                                                                  lr_width, lr_part_dens)\n",
    "\n",
    "sr_stream_tot, orbit_tot, sr_width_tot, sr_part_dens_tot = stream_pop_separations(orbital_data, sr_aligned2, \n",
    "                                                                                  sr_width, sr_part_dens)\n",
    "\n",
    "hm_stream_tot, orbit_tot, hm_width_tot, hm_part_dens_tot = stream_pop_separations(orbital_data, hm_aligned2, \n",
    "                                                                                  hm_width, hm_part_dens)\n",
    "\n",
    "lm_stream_tot, orbit_tot, lm_width_tot, lm_part_dens_tot = stream_pop_separations(orbital_data, lm_aligned2, \n",
    "                                                                                  lm_width, lm_part_dens)"
   ]
  },
  {
   "cell_type": "code",
   "execution_count": null,
   "id": "3da0e9c5",
   "metadata": {},
   "outputs": [],
   "source": [
    "streams_tot = [lr_stream_tot, sr_stream_tot, hm_stream_tot, lm_stream_tot]\n",
    "\n",
    "#print(streams_tot[0][0])"
   ]
  },
  {
   "cell_type": "code",
   "execution_count": null,
   "id": "6a894600",
   "metadata": {},
   "outputs": [],
   "source": [
    "figc4, axc4 = plt.subplots(2, 2, figsize=(15, 15))\n",
    "\n",
    "names = ['Diffuse', 'Compact', 'Heavy', 'Light']\n",
    "a = [0, 0, 1, 1]\n",
    "b = [0, 1, 0, 1]\n",
    "\n",
    "for i in range(4):\n",
    "    axc4[a[i], b[i]].scatter(streams_tot[i][0][:, 1], streams_tot[i][0][:, 2], label='1st bump', \n",
    "                 s=1, c='b', alpha=0.5)\n",
    "    axc4[a[i], b[i]].scatter(streams_tot[i][1][:, 1], streams_tot[i][1][:, 2], label='Mid peak', \n",
    "                 s=1, c='r', alpha=0.5)\n",
    "    axc4[a[i], b[i]].scatter(streams_tot[i][2][:, 1], streams_tot[i][2][:, 2], label='2nd bump', \n",
    "                 s=1, c='orange', alpha=0.5)\n",
    "\n",
    "    axc4[a[i], b[i]].plot(orbital_data[:, 1], orbital_data[:, 2], color='k', linestyle='dashed', lw=1)\n",
    "\n",
    "    axc4[a[i], b[i]].xaxis.set_major_formatter(ScalarFormatter(useMathText=True))\n",
    "    axc4[a[i], b[i]].xaxis.get_major_formatter().set_powerlimits((0, 0))\n",
    "    axc4[a[i], b[i]].yaxis.set_major_formatter(ScalarFormatter(useMathText=True))\n",
    "    axc4[a[i], b[i]].yaxis.get_major_formatter().set_powerlimits((0, 0))\n",
    "\n",
    "\n",
    "    axc4[a[i], b[i]].set_xlabel('y [kpc]')\n",
    "    axc4[a[i], b[i]].set_ylabel('z [kpc]')\n",
    "    axc4[a[i], b[i]].set_title(f'Stream parts {names[i]}')\n",
    "    \n",
    "    lgnd = axc4[a[i], b[i]].legend(fontsize=15)\n",
    "    lgnd.legendHandles[0]._sizes=[30]\n",
    "    lgnd.legendHandles[1]._sizes=[30]\n",
    "    lgnd.legendHandles[2]._sizes=[30]\n",
    "    lgnd.legendHandles[0].set_alpha(1)\n",
    "    lgnd.legendHandles[1].set_alpha(1)\n",
    "    lgnd.legendHandles[2].set_alpha(1)\n",
    "\n",
    "plt.tight_layout()\n",
    "plt.savefig('./Plots/Stream_shapes.png', facecolor='w')\n",
    "plt.show()"
   ]
  },
  {
   "cell_type": "code",
   "execution_count": null,
   "id": "206caae0",
   "metadata": {},
   "outputs": [],
   "source": []
  },
  {
   "cell_type": "code",
   "execution_count": null,
   "id": "12277a48",
   "metadata": {},
   "outputs": [],
   "source": []
  },
  {
   "cell_type": "code",
   "execution_count": null,
   "id": "7cde3b52",
   "metadata": {},
   "outputs": [],
   "source": []
  }
 ],
 "metadata": {
  "kernelspec": {
   "display_name": "Python 3 (ipykernel)",
   "language": "python",
   "name": "python3"
  },
  "language_info": {
   "codemirror_mode": {
    "name": "ipython",
    "version": 3
   },
   "file_extension": ".py",
   "mimetype": "text/x-python",
   "name": "python",
   "nbconvert_exporter": "python",
   "pygments_lexer": "ipython3",
   "version": "3.10.6"
  }
 },
 "nbformat": 4,
 "nbformat_minor": 5
}
